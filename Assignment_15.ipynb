{
  "nbformat": 4,
  "nbformat_minor": 0,
  "metadata": {
    "colab": {
      "provenance": []
    },
    "kernelspec": {
      "name": "python3",
      "display_name": "Python 3"
    },
    "language_info": {
      "name": "python"
    }
  },
  "cells": [
    {
      "cell_type": "markdown",
      "source": [
        "Q1. What is a database? Differentiate between SQL and NoSQL databases.\n",
        "\n",
        "Ans1. A database is an organized collection of data, usually stored in a computer system. It is designed to allow for efficient data storage, retrieval, and management. Databases can be of various types, including SQL and NoSQL databases.\n",
        "\n",
        "Here are some of the key differences between SQL and NoSQL databases:\n",
        "\n",
        "Data structure: SQL databases store data in tables with a fixed schema, while NoSQL databases store data in a variety of ways, including key-value pairs, documents, and graphs.\n",
        "\n",
        "Query language: SQL databases use the Structured Query Language (SQL) for querying and managing data, while NoSQL databases use a variety of query languages, depending on the type of database.\n",
        "\n",
        "Scalability: NoSQL databases are generally designed to be highly scalable and can handle large amounts of unstructured data, while SQL databases may have more limited scalability and may not be suitable for handling large volumes of unstructured data.\n",
        "\n",
        "Data consistency: SQL databases provide strong support for data consistency, and transactions ensure that data is always in a consistent state. NoSQL databases may not provide the same level of consistency, but they offer more flexibility in terms of data modeling.\n",
        "\n",
        "Flexibility: NoSQL databases offer more flexibility in terms of schema design and data modeling, and they are better suited for handling rapidly changing data structures. SQL databases have a fixed schema, which can make it difficult to handle data that is constantly evolving.\n",
        "\n"
      ],
      "metadata": {
        "id": "FWwRdIpvL5q0"
      }
    },
    {
      "cell_type": "code",
      "source": [],
      "metadata": {
        "id": "WqybYlONQZ_a"
      },
      "execution_count": null,
      "outputs": []
    },
    {
      "cell_type": "markdown",
      "source": [
        "Q2. What is DDL? Explain why CREATE, DROP, ALTER, and TRUNCATE are used with an example.\n",
        "\n",
        "Ans2. DDL (Data Definition Language) is a subset of SQL (Structured Query Language) that is used to define and manage the structure of a database. DDL statements are used to create, modify, and delete database objects such as tables, views, and indexes.\n",
        "\n",
        "Here are some of the commonly used DDL statements and their purposes:"
      ],
      "metadata": {
        "id": "Sp8XJd39MZ7V"
      }
    },
    {
      "cell_type": "code",
      "source": [
        "##CREATE: The CREATE statement is used to create a new database object, such as a table or a view.\n",
        "##  For example, the following statement creates a new table called customers:\n",
        "CREATE TABLE customers (\n",
        "  id INT PRIMARY KEY,\n",
        "  name VARCHAR(50),\n",
        "  email VARCHAR(50)\n",
        ");\n"
      ],
      "metadata": {
        "id": "JB5DcZAYMtyp"
      },
      "execution_count": null,
      "outputs": []
    },
    {
      "cell_type": "code",
      "source": [
        "# DROP: The DROP statement is used to delete a database object. \n",
        "# For example, the following statement drops the customers table:\n",
        "DROP TABLE customers;\n"
      ],
      "metadata": {
        "id": "C_jdlC7eM6QW"
      },
      "execution_count": null,
      "outputs": []
    },
    {
      "cell_type": "code",
      "source": [
        "# ALTER: The ALTER statement is used to modify the structure of a database object, such as a table. \n",
        "# For example, the following statement adds a new column called phone to the customers table:\n",
        "ALTER TABLE customers ADD phone VARCHAR(20);\n"
      ],
      "metadata": {
        "id": "xRMYNXkoNFdr"
      },
      "execution_count": null,
      "outputs": []
    },
    {
      "cell_type": "code",
      "source": [
        "# TRUNCATE: The TRUNCATE statement is used to remove all the data from a table, while keeping the table structure intact. \n",
        "# For example, the following statement removes all the data from the customers table:\n",
        "TRUNCATE TABLE customers;\n"
      ],
      "metadata": {
        "id": "_jBEoji_NMKM"
      },
      "execution_count": null,
      "outputs": []
    },
    {
      "cell_type": "code",
      "source": [],
      "metadata": {
        "id": "tBjFL_xyNU1x"
      },
      "execution_count": null,
      "outputs": []
    },
    {
      "cell_type": "markdown",
      "source": [
        "Q3. What is DML? Explain INSERT, UPDATE, and DELETE with an example.\n",
        "\n",
        "Ans3.DML (Data Manipulation Language) is a subset of SQL (Structured Query Language) that is used to manipulate data stored in a database. DML statements are used to insert, update, and delete data from database tables.\n",
        "\n",
        "Here are some commonly used DML statements and their purposes:\n",
        "\n",
        "INSERT: The INSERT statement is used to insert new data into a table. For example, the following statement inserts a new row into the customers table:\n",
        "\n",
        "INSERT INTO customers (id, name, email) VALUES (1, 'Jasvinder Singh', 'jassi@gmail.com');\n",
        "\n",
        "UPDATE: The UPDATE statement is used to modify existing data in a table. For example, the following statement updates the email address of the customer with ID 1 in the customers table:\n",
        "\n",
        "\n",
        "UPDATE customers SET email = 'jassi@gmail.com' WHERE id = 1;\n",
        "\n",
        "DELETE: The DELETE statement is used to delete data from a table. For example, the following statement deletes the row with ID 1 from the customers table:\n",
        "\n",
        "\n",
        "DELETE FROM customers WHERE id = 1;"
      ],
      "metadata": {
        "id": "kCEWWQUkMey_"
      }
    },
    {
      "cell_type": "code",
      "source": [],
      "metadata": {
        "id": "jP_krYpbOlIl"
      },
      "execution_count": null,
      "outputs": []
    },
    {
      "cell_type": "markdown",
      "source": [
        "Q4. What is DQL? Explain SELECT with an example.\n",
        "\n",
        "Ans4. DQL (Data Query Language) is a subset of SQL (Structured Query Language) that is used to retrieve data from a database. DQL statements are used to query the database and retrieve specific data from one or more database tables.\n",
        "\n",
        "The most commonly used DQL statement is the SELECT statement, which is used to retrieve data from one or more tables based on a specific set of criteria. Here's an example of how the SELECT statement can be used:\n",
        "\n",
        "\n",
        "SELECT name, email FROM customers WHERE city = 'New York';"
      ],
      "metadata": {
        "id": "Vq2Ze9ufNcR2"
      }
    },
    {
      "cell_type": "code",
      "source": [],
      "metadata": {
        "id": "8fPvqrRCPRFw"
      },
      "execution_count": null,
      "outputs": []
    },
    {
      "cell_type": "markdown",
      "source": [
        "Q5. Explain Primary Key and Foreign Key.\n",
        "\n",
        "Ans5. In relational database design, a primary key is a column or set of columns that uniquely identifies each row in a table. A primary key constraint is used to ensure that each value in the primary key column(s) is unique and not null. A primary key can be a single column or a combination of columns.\n",
        "\n",
        "A foreign key, on the other hand, is a column or set of columns in one table that refers to the primary key of another table. The foreign key constraint is used to ensure that the values in the foreign key column(s) match the values in the primary key column(s) of the referenced table. This establishes a relationship between the two tables, with the referencing table being the \"child\" and the referenced table being the \"parent\"."
      ],
      "metadata": {
        "id": "OCrKSQLBPNC4"
      }
    },
    {
      "cell_type": "code",
      "execution_count": null,
      "metadata": {
        "id": "PbERCJtzLwST"
      },
      "outputs": [],
      "source": []
    },
    {
      "cell_type": "markdown",
      "source": [
        "Q6. Write a python code to connect MySQL to python. Explain the cursor() and execute() method.\n"
      ],
      "metadata": {
        "id": "vGDl6Z0XPd-R"
      }
    },
    {
      "cell_type": "code",
      "source": [
        "# Ans6. \n",
        "\n",
        "import mysql.connector\n",
        "\n",
        "cnx = mysql.connector.connect(user='username', password='password',\n",
        "                              host='localhost',\n",
        "                              database='database_name')\n",
        "\n",
        "cursor = cnx.cursor()\n",
        "\n",
        "query = \"SELECT * FROM my_table\"\n",
        "cursor.execute(query)\n",
        "\n",
        "for row in cursor:\n",
        "    print(row)\n",
        "\n",
        "cursor.close()\n",
        "cnx.close()\n"
      ],
      "metadata": {
        "id": "7K1ztZrEPtwC"
      },
      "execution_count": null,
      "outputs": []
    },
    {
      "cell_type": "code",
      "source": [],
      "metadata": {
        "id": "ZiRKjQSRPwaf"
      },
      "execution_count": null,
      "outputs": []
    },
    {
      "cell_type": "markdown",
      "source": [
        "Q7. Give the order of execution of SQL clauses in an SQL query.\n",
        "\n",
        "Ans7. The order of execution of clauses in an SQL query is as follows:\n",
        "\n",
        "1.FROM: The FROM clause specifies the table or tables from which the data will be selected.\n",
        "\n",
        "2.WHERE: The WHERE clause is used to filter the rows that match a specific condition or set of conditions.\n",
        "\n",
        "3.GROUP BY: The GROUP BY clause is used to group the results by one or more columns.\n",
        "\n",
        "4.HAVING: The HAVING clause is used to filter the groups that match a specific condition or set of conditions.\n",
        "\n",
        "5.SELECT: The SELECT clause is used to specify the columns that will be retrieved.\n",
        "\n",
        "6.ORDER BY: The ORDER BY clause is used to sort the results by one or more columns.\n",
        "\n",
        "7.LIMIT/OFFSET: The LIMIT and OFFSET clauses are used to limit the number of rows that are returned and to specify the starting row for the result set."
      ],
      "metadata": {
        "id": "PQMqpwOHP-hD"
      }
    },
    {
      "cell_type": "code",
      "source": [],
      "metadata": {
        "id": "BjdMq-FpQWpk"
      },
      "execution_count": null,
      "outputs": []
    }
  ]
}