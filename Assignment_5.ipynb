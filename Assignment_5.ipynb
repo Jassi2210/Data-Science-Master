{
  "nbformat": 4,
  "nbformat_minor": 0,
  "metadata": {
    "colab": {
      "provenance": []
    },
    "kernelspec": {
      "name": "python3",
      "display_name": "Python 3"
    },
    "language_info": {
      "name": "python"
    }
  },
  "cells": [
    {
      "cell_type": "code",
      "execution_count": 1,
      "metadata": {
        "colab": {
          "base_uri": "https://localhost:8080/"
        },
        "id": "G-ppSS_IoRpT",
        "outputId": "444c42a2-f226-4318-823c-021afcbf8363"
      },
      "outputs": [
        {
          "output_type": "stream",
          "name": "stdout",
          "text": [
            "[('Sachin Tendulkar', 34357), ('Ricky Ponting', 27483), ('Jack Kallis', 25534), ('Virat Kohli', 24936)]\n"
          ]
        }
      ],
      "source": [
        "\"\"\"Q1. Create a python program to sort the given list of tuples based on integer value using a  lambda function.\"\"\"\n",
        "[('Sachin Tendulkar', 34357), ('Ricky Ponting', 27483), ('Jack Kallis', 25534), ('Virat Kohli', 24936)] \n",
        "\n",
        "\n",
        "player_records = [('Sachin Tendulkar', 34357), ('Ricky Ponting', 27483), ('Jack Kallis', 25534), ('Virat Kohli', 24936)]\n",
        "\n",
        "sorted_records = sorted(player_records, key=lambda x: x[1], reverse=True)\n",
        "\n",
        "print(sorted_records)\n",
        "\n",
        "\n"
      ]
    },
    {
      "cell_type": "code",
      "source": [
        "\"\"\"\"Q2. Write a Python Program to find the squares of all the numbers in the given list of integers using  lambda and map functions.\"\"\" \n",
        "      ### [1, 2, 3, 4, 5, 6, 7, 8, 9, 10] \n",
        "\n",
        "\n",
        "\n",
        "numbers = [1, 2, 3, 4, 5, 6, 7, 8, 9, 10]\n",
        "\n",
        "squared_numbers = list(map(lambda x: x**2, numbers))\n",
        "\n",
        "print(squared_numbers)\n",
        "\n",
        "\n",
        "\n"
      ],
      "metadata": {
        "colab": {
          "base_uri": "https://localhost:8080/"
        },
        "id": "_zXaJ6IKo6FJ",
        "outputId": "657c4023-be9d-4e57-af25-cb5f92845c10"
      },
      "execution_count": 9,
      "outputs": [
        {
          "output_type": "stream",
          "name": "stdout",
          "text": [
            "[1, 4, 9, 16, 25, 36, 49, 64, 81, 100]\n"
          ]
        }
      ]
    },
    {
      "cell_type": "code",
      "source": [
        "###Q3. Write a python program to convert the given list of integers into a tuple of strings. Use map and  lambda functions \n",
        "###Given String: [1, 2, 3, 4, 5, 6, 7, 8, 9, 10] \n",
        "###Expected output: ('1', '2', '3', '4', '5', '6', '7', '8', '9', '10') \n",
        " \n",
        "\n",
        "numbers = [1, 2, 3, 4, 5, 6, 7, 8, 9, 10]\n",
        "\n",
        "tuple_of_strings = tuple(map(lambda x: str(x), numbers))\n",
        "\n",
        "print(tuple_of_strings)\n",
        "\n",
        "\n",
        "\n"
      ],
      "metadata": {
        "colab": {
          "base_uri": "https://localhost:8080/"
        },
        "id": "wEXnR5WipPUx",
        "outputId": "d98171c9-671e-4f23-fdee-e32683704e79"
      },
      "execution_count": 11,
      "outputs": [
        {
          "output_type": "stream",
          "name": "stdout",
          "text": [
            "('1', '2', '3', '4', '5', '6', '7', '8', '9', '10')\n"
          ]
        }
      ]
    },
    {
      "cell_type": "code",
      "source": [
        "###Q4.  Write a python program using reduce function to compute the product of a list containing numbers  from 1 to 25. \n",
        "\n",
        "\n",
        "from functools import reduce\n",
        "\n",
        "numbers = [x for x in range(1, 26)]\n",
        "\n",
        "product = reduce(lambda x, y: x * y, numbers)\n",
        "\n",
        "print(product)\n",
        "\n"
      ],
      "metadata": {
        "colab": {
          "base_uri": "https://localhost:8080/"
        },
        "id": "vOEtwEIZptEp",
        "outputId": "a1d35b76-c2b8-4e5d-87fa-07830176b751"
      },
      "execution_count": 12,
      "outputs": [
        {
          "output_type": "stream",
          "name": "stdout",
          "text": [
            "15511210043330985984000000\n"
          ]
        }
      ]
    },
    {
      "cell_type": "code",
      "source": [
        "###Q5. Write a python program to filter the numbers in a given list that are divisible by 2 and 3 using the  filter function. \n",
        "###[2, 3, 6, 9, 27, 60, 90, 120, 55, 46] \n",
        "\n",
        "\n",
        "numbers = [2, 3, 6, 9, 27, 60, 90, 120, 55, 46]\n",
        "\n",
        "filtered_numbers = list(filter(lambda x: x % 2 == 0 and x % 3 == 0, numbers))\n",
        "\n",
        "print(filtered_numbers)\n"
      ],
      "metadata": {
        "colab": {
          "base_uri": "https://localhost:8080/"
        },
        "id": "Fo58igQyqo7D",
        "outputId": "09f8168b-54cf-414c-a353-7a7d8ee9797d"
      },
      "execution_count": 13,
      "outputs": [
        {
          "output_type": "stream",
          "name": "stdout",
          "text": [
            "[6, 60, 90, 120]\n"
          ]
        }
      ]
    },
    {
      "cell_type": "code",
      "source": [
        "###Q6. Write a python program to find palindromes in the given list of strings using lambda and filter  function. \n",
        "###['python', 'php', 'aba', 'radar', 'level'] \n",
        "\n",
        "\n",
        "words = ['python', 'php', 'aba', 'radar', 'level']\n",
        "\n",
        "palindromes = list(filter(lambda x: x == x[::-1], words))\n",
        "\n",
        "print(palindromes)\n"
      ],
      "metadata": {
        "colab": {
          "base_uri": "https://localhost:8080/"
        },
        "id": "QU1lsgolq34J",
        "outputId": "a39dc904-2d26-4d66-eb41-e91dacd442b2"
      },
      "execution_count": 14,
      "outputs": [
        {
          "output_type": "stream",
          "name": "stdout",
          "text": [
            "['php', 'aba', 'radar', 'level']\n"
          ]
        }
      ]
    },
    {
      "cell_type": "code",
      "source": [],
      "metadata": {
        "id": "YYVaCq7KrFZ7"
      },
      "execution_count": null,
      "outputs": []
    }
  ]
}