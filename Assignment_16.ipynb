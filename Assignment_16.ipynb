{
  "nbformat": 4,
  "nbformat_minor": 0,
  "metadata": {
    "colab": {
      "provenance": []
    },
    "kernelspec": {
      "name": "python3",
      "display_name": "Python 3"
    },
    "language_info": {
      "name": "python"
    }
  },
  "cells": [
    {
      "cell_type": "code",
      "execution_count": null,
      "metadata": {
        "id": "269OFhHQQ1Sf"
      },
      "outputs": [],
      "source": []
    },
    {
      "cell_type": "markdown",
      "source": [
        "Q1. What is MongoDB? Explain non-relational databases in short. In which scenarios it is preferred to use\n",
        "MongoDB over SQL databases?\n",
        "\n",
        "Ans1. MongoDB is a popular document-oriented, NoSQL database management system. In contrast to traditional relational databases that store data in rows and columns, MongoDB stores data in JSON-like documents with dynamic schemas. This makes it highly scalable, flexible, and well-suited to handling large amounts of unstructured or semi-structured data.\n",
        "\n",
        "Non-relational databases, also known as NoSQL databases, are a category of databases that do not use the traditional relational model of tables and rows. Instead, they use flexible data models, including document-based, key-value, graph, and column-family databases. NoSQL databases are designed to handle the challenges of big data, such as high data volume, high data velocity, and data variety. They can scale horizontally, meaning they can add more nodes to a cluster to increase capacity and performance, and can handle unstructured data formats such as images, videos, and JSON.\n",
        "\n",
        "MongoDB is preferred over SQL databases in scenarios where there is a need for:\n",
        "\n",
        "1.Flexibility: MongoDB has a flexible document-based data model that can accommodate changes in the data structure without requiring schema modifications. This is particularly useful in scenarios where the data structure is not well-defined, or when it is expected to change frequently.\n",
        "\n",
        "2.Scalability: MongoDB is designed to scale horizontally, meaning it can handle large amounts of data by adding more nodes to a cluster. This is useful in scenarios where there is a need to store and manage large amounts of unstructured data.\n",
        "\n",
        "3.Performance: MongoDB can provide high performance for read-intensive workloads, such as those involving search and aggregation, by supporting distributed queries and indexes.\n",
        "\n",
        "4.Speed of development: MongoDB has a rich set of features and libraries that make it easy to develop applications quickly.\n",
        "\n",
        "5.Cost: MongoDB is open-source software, and the community edition is free to use. This can be an advantage in scenarios where there is a need to keep costs low.\n",
        "\n",
        "\n",
        "\n",
        "\n"
      ],
      "metadata": {
        "id": "kOhQAQbrQ523"
      }
    },
    {
      "cell_type": "code",
      "source": [],
      "metadata": {
        "id": "1zxesIV-RYp4"
      },
      "execution_count": null,
      "outputs": []
    },
    {
      "cell_type": "markdown",
      "source": [
        "Q2. State and Explain the features of MongoDB.\n",
        "\n",
        "Ans2. MongoDB is a popular document-oriented, NoSQL database management system. It provides a number of features that make it a preferred choice for a wide range of applications:\n",
        "\n",
        "1.Document-oriented: MongoDB stores data in flexible, JSON-like documents that can have varying structures, making it easy to store and manage unstructured data.\n",
        "\n",
        "2.High performance: MongoDB provides high performance for read-intensive workloads by supporting distributed queries and indexes.\n",
        "\n",
        "3.Horizontal scalability: MongoDB is designed to scale horizontally, allowing for the addition of more nodes to a cluster to increase capacity and performance.\n",
        "\n",
        "4.Rich query language: MongoDB provides a rich and expressive query language that supports a wide range of queries, including range queries, regular expression searches, and geospatial queries.\n",
        "\n",
        "5.Secondary indexes: MongoDB supports secondary indexes that can be used to improve query performance.\n",
        "\n",
        "6.Aggregation framework: MongoDB provides an aggregation framework that allows for the processing of data and the transformation of documents using pipelines.\n",
        "\n",
        "7.Schemaless: MongoDB is schemaless, meaning that the structure of the data can be changed without the need to modify the underlying schema.\n",
        "\n",
        "8.Automatic sharding: MongoDB supports automatic sharding, which is the process of distributing data across multiple servers.\n",
        "\n",
        "9.Replication: MongoDB supports replication, which involves copying data from one server to one or more other servers to ensure data availability and durability.\n",
        "\n",
        "10.Open-source: MongoDB is open-source software, and the community edition is free to use, making it an attractive choice for startups and small businesses."
      ],
      "metadata": {
        "id": "br-uBADCRaQ_"
      }
    },
    {
      "cell_type": "code",
      "source": [],
      "metadata": {
        "id": "2ZsRjeYYR3St"
      },
      "execution_count": null,
      "outputs": []
    },
    {
      "cell_type": "markdown",
      "source": [
        "Q3. Write a code to connect MongoDB to Python. Also, create a database and a collection in MongoDB."
      ],
      "metadata": {
        "id": "VhGKLvamR785"
      }
    },
    {
      "cell_type": "code",
      "source": [
        "# Ans3.\n",
        "\n",
        "import pymongo\n",
        "\n",
        "# connect to MongoDB\n",
        "client = pymongo.MongoClient(\"mongodb://localhost:27017/\")\n",
        "\n",
        "# create a database\n",
        "db = client[\"mydatabase\"]\n",
        "\n",
        "# create a collection\n",
        "col = db[\"customers\"]\n"
      ],
      "metadata": {
        "id": "_yylPe7USCD2"
      },
      "execution_count": null,
      "outputs": []
    },
    {
      "cell_type": "markdown",
      "source": [
        "Q4. Using the database and the collection created in question number 3, write a code to insert one record,\n",
        "and insert many records. Use the find() and find_one() methods to print the inserted record."
      ],
      "metadata": {
        "id": "W5MDFIKRSJjb"
      }
    },
    {
      "cell_type": "code",
      "source": [
        "# Ans4. \n",
        "import pymongo\n",
        "\n",
        "# connect to MongoDB\n",
        "client = pymongo.MongoClient(\"mongodb://localhost:27017/\")\n",
        "\n",
        "# create a database\n",
        "db = client[\"mydatabase\"]\n",
        "\n",
        "# create a collection\n",
        "col = db[\"customers\"]\n",
        "\n",
        "# insert one record\n",
        "record = { \"name\": \"Jasvinder Singh\", \"address\": \"Sai Vihar\", \"age\": 23 }\n",
        "x = col.insert_one(record)\n",
        "\n",
        "# insert many records\n",
        "records = [\n",
        "    { \"name\": \"Jassi Singh\", \"address\": \"Goolar Road\", \"age\": 24 },\n",
        "    { \"name\": \"Bobby Singh\", \"address\": \"Delhi Gate\", \"age\": 25 },\n",
        "    { \"name\": \"Sachin Rajput\", \"address\": \"Center Point\", \"age\": 27 }\n",
        "]\n",
        "y = col.insert_many(records)\n",
        "\n",
        "# print the inserted records\n",
        "print(col.find_one())      # print the first record in the collection\n",
        "for record in col.find():  # print all records in the collection\n",
        "    print(record)\n",
        "\n",
        "\n"
      ],
      "metadata": {
        "id": "0zEhgLJXSUAU"
      },
      "execution_count": null,
      "outputs": []
    },
    {
      "cell_type": "markdown",
      "source": [
        "Q5. Explain how you can use the find() method to query the MongoDB database. Write a simple code to\n",
        "demonstrate this.\n",
        "\n",
        "Ans5. The find() method in MongoDB is used to query the database and retrieve documents that match a specified set of criteria. It returns a cursor object that can be used to iterate over the documents that match the query.\n",
        "\n",
        "The find() method takes an optional argument, which is a document containing the query criteria. This document is similar to a JSON object and contains key-value pairs that specify the field and value to match in the documents. For example, to find all documents where the age field is greater than or equal to 30, we can use the following query:"
      ],
      "metadata": {
        "id": "tNW_o0DCTJWW"
      }
    },
    {
      "cell_type": "code",
      "source": [
        "query = { \"age\": { \"$gte\": 30 } }\n",
        "result = col.find(query)\n"
      ],
      "metadata": {
        "id": "NYjRuHaJTXR1"
      },
      "execution_count": null,
      "outputs": []
    },
    {
      "cell_type": "markdown",
      "source": [
        "Q6. Explain the sort() method. Give an example to demonstrate sorting in MongoDB.\n",
        "\n",
        "Ans6. The sort() method in MongoDB is used to sort the documents in a collection based on one or more fields. It takes one parameter, which is a document that specifies the fields to sort by and the sort order."
      ],
      "metadata": {
        "id": "Ir1cJ90rTaoU"
      }
    },
    {
      "cell_type": "code",
      "source": [
        "import pymongo\n",
        "\n",
        "# connect to MongoDB\n",
        "client = pymongo.MongoClient(\"mongodb://localhost:27017/\")\n",
        "\n",
        "# create a database and a collection\n",
        "db = client[\"mydatabase\"]\n",
        "col = db[\"customers\"]\n",
        "\n",
        "# insert some records\n",
        "records = [\n",
        "    { \"name\": \"John Doe\", \"address\": \"123 Main St\", \"age\": 30 },\n",
        "    { \"name\": \"Jane Smith\", \"address\": \"456 Elm St\", \"age\": 25 },\n",
        "    { \"name\": \"Bob Johnson\", \"address\": \"789 Oak St\", \"age\": 35 },\n",
        "    { \"name\": \"Sara Lee\", \"address\": \"321 Maple Ave\", \"age\": 27 }\n",
        "]\n",
        "col.insert_many(records)\n",
        "\n",
        "# sort the records by age in descending order\n",
        "query = { \"age\": -1 }\n",
        "result = col.find().sort(query)\n",
        "\n",
        "# print the sorted records\n",
        "for record in result:\n",
        "    print(record)\n"
      ],
      "metadata": {
        "id": "wepXoaH2TtyT"
      },
      "execution_count": null,
      "outputs": []
    },
    {
      "cell_type": "markdown",
      "source": [
        "Q7. Explain why delete_one(), delete_many(), and drop() is used.\n",
        "\n",
        "Ans7. In MongoDB, delete_one() and delete_many() methods are used to delete documents from a collection, while the drop() method is used to delete an entire collection.\n",
        "\n",
        "The delete_one() method is used to delete a single document that matches a specified filter.\n",
        "\n",
        "The delete_many() method, as the name suggests, is used to delete multiple documents that match a specified filter. \n",
        "The drop() method is used to drop an entire collection, which means that all documents in the collection will be permanently deleted."
      ],
      "metadata": {
        "id": "Lf-EMPL7TxUK"
      }
    },
    {
      "cell_type": "code",
      "source": [],
      "metadata": {
        "id": "O6WlFmoVURO9"
      },
      "execution_count": null,
      "outputs": []
    }
  ]
}