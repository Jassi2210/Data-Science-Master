{
  "nbformat": 4,
  "nbformat_minor": 0,
  "metadata": {
    "colab": {
      "provenance": []
    },
    "kernelspec": {
      "name": "python3",
      "display_name": "Python 3"
    },
    "language_info": {
      "name": "python"
    }
  },
  "cells": [
    {
      "cell_type": "code",
      "execution_count": 1,
      "metadata": {
        "colab": {
          "base_uri": "https://localhost:8080/"
        },
        "id": "_F-Qt_PRdswx",
        "outputId": "bcbd3e38-6a2a-4736-9373-dc182e58a64d"
      },
      "outputs": [
        {
          "output_type": "stream",
          "name": "stdout",
          "text": [
            "[1, 3, 5, 7, 9, 11, 13, 15, 17, 19, 21, 23, 25]\n"
          ]
        }
      ],
      "source": [
        "### Q1. Which keyword is used to create a function? Create a function to return a list of odd numbers in the  range of 1 to 25. \n",
        "### Ans1-- In Python, the def keyword is used to create a function.\n",
        "\n",
        "def odd_numbers():\n",
        "    odd_num_list = []\n",
        "    for i in range(1, 26):\n",
        "        if i % 2 != 0:\n",
        "            odd_num_list.append(i)\n",
        "    return odd_num_list\n",
        "\n",
        "print(odd_numbers())\n"
      ]
    },
    {
      "cell_type": "code",
      "source": [
        "### Q2. Why *args and **kwargs is used in some functions? Create a function each for *args and **kwargs to  demonstrate their use. \n",
        "### Ans2-- The *args and **kwargs syntax is used in Python to allow a function to accept a variable number of arguments.\n",
        "\n",
        "##  *args is used to pass a non-keyworded, variable length argument list to the function.\n",
        "##  **kwargs is used to pass keyworded, variable length of arguments to the function.\n",
        "\n",
        "def print_args(*args):\n",
        "    for arg in args:\n",
        "        print(arg)\n",
        "\n",
        "print_args(1, 2, 3, 4, 5)\n"
      ],
      "metadata": {
        "colab": {
          "base_uri": "https://localhost:8080/"
        },
        "id": "G60M2lDVeMgF",
        "outputId": "98b231d8-bad9-4ad1-93f7-7ea1b198f444"
      },
      "execution_count": 2,
      "outputs": [
        {
          "output_type": "stream",
          "name": "stdout",
          "text": [
            "1\n",
            "2\n",
            "3\n",
            "4\n",
            "5\n"
          ]
        }
      ]
    },
    {
      "cell_type": "code",
      "source": [
        "def print_kwargs(**kwargs):\n",
        "    for key, value in kwargs.items():\n",
        "        print(f\"{key}: {value}\")\n",
        "\n",
        "print_kwargs(first_name=\"Jasvinder\", last_name=\"Singh\", age=24)\n"
      ],
      "metadata": {
        "colab": {
          "base_uri": "https://localhost:8080/"
        },
        "id": "eByqbWCAe3x2",
        "outputId": "37d690fc-20b8-4a7b-8382-b5a38721ee61"
      },
      "execution_count": 4,
      "outputs": [
        {
          "output_type": "stream",
          "name": "stdout",
          "text": [
            "first_name: Jasvinder\n",
            "last_name: Singh\n",
            "age: 24\n"
          ]
        }
      ]
    },
    {
      "cell_type": "code",
      "source": [
        "### Q3.  What is an iterator in python? Name the method used to initialise the iterator object and the method  used for iteration. Use these methods to print the first five elements of the given list [2, 4, 6, 8, 10, 12, 14, 16,  18, 20]. \n",
        "### Ans3-- An iterator in Python is an object that allows a programmer to traverse through all the elements of a collection, such as a list or a tuple, and perform operations on each element.\n",
        "### In Python, the iter() method is used to initialize the iterator object, and the next() method is used for iteration.\n",
        "### Here is an example to print the first five elements of the given list [2, 4, 6, 8, 10, 12, 14, 16, 18, 20] using these methods:\n",
        "\n",
        "numbers = [2, 4, 6, 8, 10, 12, 14, 16, 18, 20]\n",
        "\n",
        "numbers_iter = iter(numbers)\n",
        "\n",
        "for i in range(5):\n",
        "    print(next(numbers_iter))\n"
      ],
      "metadata": {
        "colab": {
          "base_uri": "https://localhost:8080/"
        },
        "id": "nftZYAIBe-Cy",
        "outputId": "d9e0a162-12d5-4f87-8c7e-74e4b98956aa"
      },
      "execution_count": 6,
      "outputs": [
        {
          "output_type": "stream",
          "name": "stdout",
          "text": [
            "2\n",
            "4\n",
            "6\n",
            "8\n",
            "10\n"
          ]
        }
      ]
    },
    {
      "cell_type": "code",
      "source": [
        "### Q4.  What is a generator function in python? Why yield keyword is used? Give an example of a generator  function. \n",
        "### Ans4-- A generator function in Python is a special type of function that generates a generator object when called. Unlike a normal function, a generator function does not return a value when executed, but instead returns a generator object that can be used to produce a sequence of values.\n",
        "### The yield keyword is used in a generator function to return a value and pause execution until the next value is requested. This allows the generator function to generate a large number of values without consuming a lot of memory.\n",
        "### Here is an example of a generator function that generates the squares of numbers:\n",
        "\n",
        "def squares_generator(n):\n",
        "    for i in range(n):\n",
        "        yield i**2\n",
        "\n",
        "squared_numbers = squares_generator(10)\n",
        "\n",
        "for square in squared_numbers:\n",
        "    print(square)\n"
      ],
      "metadata": {
        "colab": {
          "base_uri": "https://localhost:8080/"
        },
        "id": "_3Sl5u3cfojK",
        "outputId": "27ab0ab2-8257-48cf-f453-a6d98fab80d0"
      },
      "execution_count": 7,
      "outputs": [
        {
          "output_type": "stream",
          "name": "stdout",
          "text": [
            "0\n",
            "1\n",
            "4\n",
            "9\n",
            "16\n",
            "25\n",
            "36\n",
            "49\n",
            "64\n",
            "81\n"
          ]
        }
      ]
    },
    {
      "cell_type": "code",
      "source": [
        "### Q5. Create a generator function for prime numbers less than 1000. Use the next() method to print the  first 20 prime numbers. \n",
        "### Ans5-- \n",
        "def prime_numbers_generator():\n",
        "    yield 2\n",
        "    primes = [2]\n",
        "    num = 3\n",
        "    while num < 1000:\n",
        "        is_prime = True\n",
        "        for prime in primes:\n",
        "            if num % prime == 0:\n",
        "                is_prime = False\n",
        "                break\n",
        "        if is_prime:\n",
        "            primes.append(num)\n",
        "            yield num\n",
        "        num += 2\n",
        "\n",
        "prime_numbers = prime_numbers_generator()\n",
        "\n",
        "for i in range(20):\n",
        "    print(next(prime_numbers))\n"
      ],
      "metadata": {
        "colab": {
          "base_uri": "https://localhost:8080/"
        },
        "id": "AKfUWbsNgPzg",
        "outputId": "5ea25d27-23d2-471d-80fa-72a8c644a2c7"
      },
      "execution_count": 8,
      "outputs": [
        {
          "output_type": "stream",
          "name": "stdout",
          "text": [
            "2\n",
            "3\n",
            "5\n",
            "7\n",
            "11\n",
            "13\n",
            "17\n",
            "19\n",
            "23\n",
            "29\n",
            "31\n",
            "37\n",
            "41\n",
            "43\n",
            "47\n",
            "53\n",
            "59\n",
            "61\n",
            "67\n",
            "71\n"
          ]
        }
      ]
    },
    {
      "cell_type": "code",
      "source": [],
      "metadata": {
        "id": "dphP6lV_guOd"
      },
      "execution_count": null,
      "outputs": []
    }
  ]
}