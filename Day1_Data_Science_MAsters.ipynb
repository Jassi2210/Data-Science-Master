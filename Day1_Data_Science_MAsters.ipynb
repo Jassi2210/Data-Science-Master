{
  "cells": [
    {
      "cell_type": "code",
      "execution_count": null,
      "id": "f1a32916-0b22-4891-9618-8c987c4a57f3",
      "metadata": {
        "id": "f1a32916-0b22-4891-9618-8c987c4a57f3"
      },
      "outputs": [],
      "source": [
        "a=10"
      ]
    },
    {
      "cell_type": "code",
      "execution_count": null,
      "id": "3cc780eb-77d9-49ff-8f2c-952f6d6762cd",
      "metadata": {
        "id": "3cc780eb-77d9-49ff-8f2c-952f6d6762cd",
        "outputId": "eb86f3ce-3da2-40f8-b740-60238b8b99dd"
      },
      "outputs": [
        {
          "data": {
            "text/plain": [
              "10"
            ]
          },
          "execution_count": 17,
          "metadata": {},
          "output_type": "execute_result"
        }
      ],
      "source": [
        "a"
      ]
    },
    {
      "cell_type": "code",
      "execution_count": null,
      "id": "3eb5e2df-507e-4fcc-970e-51fd94d17523",
      "metadata": {
        "id": "3eb5e2df-507e-4fcc-970e-51fd94d17523",
        "outputId": "de264a1e-5de5-4095-8505-8bdc609bf976"
      },
      "outputs": [
        {
          "data": {
            "text/plain": [
              "20"
            ]
          },
          "execution_count": 20,
          "metadata": {},
          "output_type": "execute_result"
        }
      ],
      "source": [
        "## Comments\n",
        "## for single we use ##\n",
        "## this is a function\n",
        "# this is a comment\n",
        "a=20\n",
        "a"
      ]
    },
    {
      "cell_type": "code",
      "execution_count": null,
      "id": "2389175a-cca1-4a66-acb8-84b6dd4b2801",
      "metadata": {
        "id": "2389175a-cca1-4a66-acb8-84b6dd4b2801",
        "outputId": "16033184-c18d-4ce8-c900-3636cf288001"
      },
      "outputs": [
        {
          "data": {
            "text/plain": [
              "20"
            ]
          },
          "execution_count": 23,
          "metadata": {},
          "output_type": "execute_result"
        }
      ],
      "source": [
        "\"\"\"\n",
        "Example of multiline comments\n",
        "hello this is a example of python\n",
        "dsfsdfdfdsf\n",
        "dfsdfsdfsdfdsf\n",
        "dfdsfdsfsdf\n",
        "\"\"\"\n",
        "a=20\n",
        "a"
      ]
    },
    {
      "cell_type": "markdown",
      "id": "71fbfe47-4824-42a6-87a9-7e0c2f71adb3",
      "metadata": {
        "id": "71fbfe47-4824-42a6-87a9-7e0c2f71adb3"
      },
      "source": [
        "# hello\n",
        "## hello1\n",
        "### hello2\n",
        "\n",
        "1. hello guys how are you"
      ]
    },
    {
      "cell_type": "markdown",
      "id": "e473a53e-c6a6-4b07-9f6b-98ef306e47b1",
      "metadata": {
        "id": "e473a53e-c6a6-4b07-9f6b-98ef306e47b1"
      },
      "source": [
        "### Numbers"
      ]
    },
    {
      "cell_type": "code",
      "execution_count": null,
      "id": "e3d3ec40-acb1-4ff6-a8a9-c0d27c8ffe00",
      "metadata": {
        "id": "e3d3ec40-acb1-4ff6-a8a9-c0d27c8ffe00",
        "outputId": "be99f3a1-61ad-49ea-a9c5-842c26f80de2"
      },
      "outputs": [
        {
          "data": {
            "text/plain": [
              "4"
            ]
          },
          "execution_count": 26,
          "metadata": {},
          "output_type": "execute_result"
        }
      ],
      "source": [
        "1+3"
      ]
    },
    {
      "cell_type": "code",
      "execution_count": null,
      "id": "78a10e2f-7636-45e4-8ea2-1eabce896551",
      "metadata": {
        "id": "78a10e2f-7636-45e4-8ea2-1eabce896551",
        "outputId": "127824bd-64ab-4b61-945c-4b5fc90c00c7"
      },
      "outputs": [
        {
          "name": "stdout",
          "output_type": "stream",
          "text": [
            "4\n"
          ]
        }
      ],
      "source": [
        "print(1+3)"
      ]
    },
    {
      "cell_type": "code",
      "execution_count": null,
      "id": "beb5cced-2e48-49a7-a6d3-8b8f35670b73",
      "metadata": {
        "id": "beb5cced-2e48-49a7-a6d3-8b8f35670b73",
        "outputId": "b60f62dc-a8e2-4e5c-bc84-20fd654d2ceb"
      },
      "outputs": [
        {
          "name": "stdout",
          "output_type": "stream",
          "text": [
            "5\n"
          ]
        }
      ],
      "source": [
        "a=5\n",
        "print(a)"
      ]
    },
    {
      "cell_type": "code",
      "execution_count": null,
      "id": "caca7433-147f-48fa-ae22-6d3af37ca424",
      "metadata": {
        "id": "caca7433-147f-48fa-ae22-6d3af37ca424",
        "outputId": "02724f90-01ad-496b-99c4-081e428e3659"
      },
      "outputs": [
        {
          "name": "stdout",
          "output_type": "stream",
          "text": [
            "hello world my name is krish i work in \n",
            " PW skills and ineuron\n"
          ]
        }
      ],
      "source": [
        "print(\"hello world my name is krish i work in \\n PW skills and ineuron\")"
      ]
    },
    {
      "cell_type": "markdown",
      "id": "f4d82d79-aed7-49b4-90f8-e08a332d381a",
      "metadata": {
        "id": "f4d82d79-aed7-49b4-90f8-e08a332d381a"
      },
      "source": [
        "## Variables Assignment"
      ]
    },
    {
      "cell_type": "code",
      "execution_count": null,
      "id": "971ea0ae-5a22-46c6-843c-4352b7d9f36b",
      "metadata": {
        "id": "971ea0ae-5a22-46c6-843c-4352b7d9f36b"
      },
      "outputs": [],
      "source": [
        "name=\"Krish\"\n",
        "company=\"PWskills and ineuron\""
      ]
    },
    {
      "cell_type": "code",
      "execution_count": null,
      "id": "d3ed327b-2923-488b-8fe8-af3270872b29",
      "metadata": {
        "id": "d3ed327b-2923-488b-8fe8-af3270872b29",
        "outputId": "52a0cba2-b1a4-4e7c-fa70-bf26a5fc7826"
      },
      "outputs": [
        {
          "data": {
            "text/plain": [
              "str"
            ]
          },
          "execution_count": 45,
          "metadata": {},
          "output_type": "execute_result"
        }
      ],
      "source": [
        "type(\"sfdfdfsdf\")"
      ]
    },
    {
      "cell_type": "code",
      "execution_count": null,
      "id": "e5c73eba-4909-4c22-b901-562e068e4e69",
      "metadata": {
        "id": "e5c73eba-4909-4c22-b901-562e068e4e69",
        "outputId": "e1e50f5b-b95e-4e65-9f85-bded5ca284ff"
      },
      "outputs": [
        {
          "data": {
            "text/plain": [
              "str"
            ]
          },
          "execution_count": 46,
          "metadata": {},
          "output_type": "execute_result"
        }
      ],
      "source": [
        "type(name)"
      ]
    },
    {
      "cell_type": "code",
      "execution_count": null,
      "id": "605bb551-5105-42f7-969c-2a4bca0997c2",
      "metadata": {
        "id": "605bb551-5105-42f7-969c-2a4bca0997c2"
      },
      "outputs": [],
      "source": []
    },
    {
      "cell_type": "code",
      "execution_count": null,
      "id": "ec3b5960-7990-41ae-b562-10cca4727062",
      "metadata": {
        "id": "ec3b5960-7990-41ae-b562-10cca4727062"
      },
      "outputs": [],
      "source": [
        "name=\"Bala\""
      ]
    },
    {
      "cell_type": "code",
      "execution_count": null,
      "id": "f3eaf7f2-3cea-488e-a9d8-7dbeb0bce03e",
      "metadata": {
        "id": "f3eaf7f2-3cea-488e-a9d8-7dbeb0bce03e",
        "outputId": "d7ca3a61-1d8e-4e6e-d123-41f7ddae834d"
      },
      "outputs": [
        {
          "data": {
            "text/plain": [
              "'Bala'"
            ]
          },
          "execution_count": 40,
          "metadata": {},
          "output_type": "execute_result"
        }
      ],
      "source": [
        "name"
      ]
    },
    {
      "cell_type": "code",
      "execution_count": null,
      "id": "e42fc652-5930-4bd5-829f-eea22a553c42",
      "metadata": {
        "id": "e42fc652-5930-4bd5-829f-eea22a553c42",
        "outputId": "9dd421eb-735d-45f9-cf52-1e6e5cfffb65"
      },
      "outputs": [
        {
          "data": {
            "text/plain": [
              "'PWskills and ineuron'"
            ]
          },
          "execution_count": 36,
          "metadata": {},
          "output_type": "execute_result"
        }
      ],
      "source": [
        "company"
      ]
    },
    {
      "cell_type": "code",
      "execution_count": null,
      "id": "127ab07b-7788-44cd-81a4-1dc95890f0b9",
      "metadata": {
        "id": "127ab07b-7788-44cd-81a4-1dc95890f0b9"
      },
      "outputs": [],
      "source": [
        "number=10"
      ]
    },
    {
      "cell_type": "code",
      "execution_count": null,
      "id": "55cc9205-c02b-4cd1-8b94-52e8228c3488",
      "metadata": {
        "id": "55cc9205-c02b-4cd1-8b94-52e8228c3488",
        "outputId": "43b39ece-5612-46ed-9679-9ba89442fd2e"
      },
      "outputs": [
        {
          "data": {
            "text/plain": [
              "int"
            ]
          },
          "execution_count": 47,
          "metadata": {},
          "output_type": "execute_result"
        }
      ],
      "source": [
        "type(number)"
      ]
    },
    {
      "cell_type": "code",
      "execution_count": null,
      "id": "e39cea8f-8787-4204-ba53-49d4c85d553c",
      "metadata": {
        "id": "e39cea8f-8787-4204-ba53-49d4c85d553c",
        "outputId": "14d59b1f-b59d-48fd-c475-364e0bb0f167"
      },
      "outputs": [
        {
          "data": {
            "text/plain": [
              "20"
            ]
          },
          "execution_count": 41,
          "metadata": {},
          "output_type": "execute_result"
        }
      ],
      "source": [
        "number=20\n",
        "number"
      ]
    },
    {
      "cell_type": "code",
      "execution_count": null,
      "id": "8e39ba66-b14d-48f1-80e9-db85a7c16ad5",
      "metadata": {
        "id": "8e39ba66-b14d-48f1-80e9-db85a7c16ad5"
      },
      "outputs": [],
      "source": [
        "decimal_num=2.5"
      ]
    },
    {
      "cell_type": "code",
      "execution_count": null,
      "id": "296f5308-8cc5-4309-922b-926178aa5380",
      "metadata": {
        "id": "296f5308-8cc5-4309-922b-926178aa5380",
        "outputId": "4f157ebc-f515-499c-c817-d1b3eea8910a"
      },
      "outputs": [
        {
          "data": {
            "text/plain": [
              "2.5"
            ]
          },
          "execution_count": 49,
          "metadata": {},
          "output_type": "execute_result"
        }
      ],
      "source": [
        "decimal_num"
      ]
    },
    {
      "cell_type": "code",
      "execution_count": null,
      "id": "1e8f96c4-c830-460e-98f0-384414a277f3",
      "metadata": {
        "id": "1e8f96c4-c830-460e-98f0-384414a277f3",
        "outputId": "0279c545-1ca3-4ae1-c793-7856515491b3"
      },
      "outputs": [
        {
          "data": {
            "text/plain": [
              "float"
            ]
          },
          "execution_count": 50,
          "metadata": {},
          "output_type": "execute_result"
        }
      ],
      "source": [
        "type(decimal_num)"
      ]
    },
    {
      "cell_type": "code",
      "execution_count": null,
      "id": "eb82eef2-1ab0-4e4d-891c-118db4ab1253",
      "metadata": {
        "id": "eb82eef2-1ab0-4e4d-891c-118db4ab1253",
        "outputId": "282e2682-cbbb-4e52-b364-7422c29afea8"
      },
      "outputs": [
        {
          "data": {
            "text/plain": [
              "str"
            ]
          },
          "execution_count": 51,
          "metadata": {},
          "output_type": "execute_result"
        }
      ],
      "source": [
        "type(\"hello\")"
      ]
    },
    {
      "cell_type": "code",
      "execution_count": null,
      "id": "83faa0d6-e219-4ec8-a1d8-6f21bc06af38",
      "metadata": {
        "id": "83faa0d6-e219-4ec8-a1d8-6f21bc06af38",
        "outputId": "83285db0-1992-437b-f912-cfc1fb24b261"
      },
      "outputs": [
        {
          "data": {
            "text/plain": [
              "complex"
            ]
          },
          "execution_count": 54,
          "metadata": {},
          "output_type": "execute_result"
        }
      ],
      "source": [
        "type(1+2j)"
      ]
    },
    {
      "cell_type": "code",
      "execution_count": null,
      "id": "6b3ebbb0-abf7-4a6f-8ef1-7f2c7dd60e2c",
      "metadata": {
        "id": "6b3ebbb0-abf7-4a6f-8ef1-7f2c7dd60e2c",
        "outputId": "5259036a-5874-41f8-bd09-1c18dd968633"
      },
      "outputs": [
        {
          "name": "stdout",
          "output_type": "stream",
          "text": [
            "hello\n",
            "hello\n"
          ]
        }
      ],
      "source": [
        "print('hello')\n",
        "print(\"hello\")"
      ]
    },
    {
      "cell_type": "code",
      "execution_count": null,
      "id": "d1544044-b8db-4445-93ad-15033b400802",
      "metadata": {
        "id": "d1544044-b8db-4445-93ad-15033b400802"
      },
      "outputs": [],
      "source": [
        "##bad way\n",
        "## dont start the variable name with numbers\n",
        "1a\n",
        "3answer"
      ]
    },
    {
      "cell_type": "code",
      "execution_count": null,
      "id": "9eda26fa-89ad-4245-ae05-4a9c5882ea52",
      "metadata": {
        "id": "9eda26fa-89ad-4245-ae05-4a9c5882ea52"
      },
      "outputs": [],
      "source": [
        "number1=23"
      ]
    },
    {
      "cell_type": "code",
      "execution_count": null,
      "id": "932358cd-5192-45ef-ab65-377df8349d0c",
      "metadata": {
        "id": "932358cd-5192-45ef-ab65-377df8349d0c",
        "outputId": "77a59d44-1564-4aa5-ae7e-1a05103f21bc"
      },
      "outputs": [
        {
          "name": "stdout",
          "output_type": "stream",
          "text": [
            "ineuron\n",
            "PWSKILLS\n"
          ]
        }
      ],
      "source": [
        "## Variables are case senssitive\n",
        "company='ineuron'\n",
        "Company='PWSKILLS'\n",
        "print(company)\n",
        "print(Company)"
      ]
    },
    {
      "cell_type": "code",
      "execution_count": null,
      "id": "b6d6fb21-beb8-4cff-9626-a74b9c4c09c9",
      "metadata": {
        "id": "b6d6fb21-beb8-4cff-9626-a74b9c4c09c9"
      },
      "outputs": [],
      "source": [
        "## Reserved keywords\n",
        "'''\n",
        "int,float,len,complex,bool,str,return,yield\n",
        "'''"
      ]
    },
    {
      "cell_type": "code",
      "execution_count": null,
      "id": "6a734953-17b8-4196-90de-4b7616332766",
      "metadata": {
        "id": "6a734953-17b8-4196-90de-4b7616332766"
      },
      "outputs": [],
      "source": [
        "float=32"
      ]
    },
    {
      "cell_type": "code",
      "execution_count": null,
      "id": "8a2b871d-6451-4919-9a47-f8c858b35267",
      "metadata": {
        "id": "8a2b871d-6451-4919-9a47-f8c858b35267",
        "outputId": "4c13eb5e-0769-46b6-ccb6-a03e3ffc759c"
      },
      "outputs": [
        {
          "data": {
            "text/plain": [
              "True"
            ]
          },
          "execution_count": 61,
          "metadata": {},
          "output_type": "execute_result"
        }
      ],
      "source": [
        "##Boolean\n",
        "True"
      ]
    },
    {
      "cell_type": "code",
      "execution_count": null,
      "id": "13b61e46-94d4-4ca0-bf8d-e37037e4e094",
      "metadata": {
        "id": "13b61e46-94d4-4ca0-bf8d-e37037e4e094",
        "outputId": "b9ea2dc2-264d-42d7-b6cb-b3684dd86145"
      },
      "outputs": [
        {
          "data": {
            "text/plain": [
              "False"
            ]
          },
          "execution_count": 62,
          "metadata": {},
          "output_type": "execute_result"
        }
      ],
      "source": [
        "False"
      ]
    },
    {
      "cell_type": "code",
      "execution_count": null,
      "id": "5dab5101-167b-4581-a849-e0498b5c317c",
      "metadata": {
        "id": "5dab5101-167b-4581-a849-e0498b5c317c",
        "outputId": "be61d806-bc26-4680-ff72-33a8f6ceb3b3"
      },
      "outputs": [
        {
          "data": {
            "text/plain": [
              "False"
            ]
          },
          "execution_count": 63,
          "metadata": {},
          "output_type": "execute_result"
        }
      ],
      "source": [
        "True and False"
      ]
    },
    {
      "cell_type": "code",
      "execution_count": null,
      "id": "fe2c1827-bfba-4267-a8e9-900c0387f019",
      "metadata": {
        "id": "fe2c1827-bfba-4267-a8e9-900c0387f019",
        "outputId": "3ee23d14-30da-4edb-a6c7-b27eecbdfb12"
      },
      "outputs": [
        {
          "data": {
            "text/plain": [
              "True"
            ]
          },
          "execution_count": 64,
          "metadata": {},
          "output_type": "execute_result"
        }
      ],
      "source": [
        "True or False"
      ]
    },
    {
      "cell_type": "code",
      "execution_count": null,
      "id": "c120399d-d02c-4770-bc6a-384d336daff9",
      "metadata": {
        "id": "c120399d-d02c-4770-bc6a-384d336daff9",
        "outputId": "b74d4682-fc3e-45a5-d878-2332bd09ed06"
      },
      "outputs": [
        {
          "data": {
            "text/plain": [
              "False"
            ]
          },
          "execution_count": 67,
          "metadata": {},
          "output_type": "execute_result"
        }
      ],
      "source": [
        "not True"
      ]
    },
    {
      "cell_type": "code",
      "execution_count": null,
      "id": "1351bec8-2e41-458d-9dae-c0268f28fd40",
      "metadata": {
        "id": "1351bec8-2e41-458d-9dae-c0268f28fd40",
        "outputId": "4ea0fddd-2315-4bbf-aaad-07e6845eb57e"
      },
      "outputs": [
        {
          "data": {
            "text/plain": [
              "bool"
            ]
          },
          "execution_count": 69,
          "metadata": {},
          "output_type": "execute_result"
        }
      ],
      "source": [
        "type(not False)"
      ]
    },
    {
      "cell_type": "code",
      "execution_count": null,
      "id": "53534b69-4ce1-4853-9f82-9fed89d189f1",
      "metadata": {
        "id": "53534b69-4ce1-4853-9f82-9fed89d189f1",
        "outputId": "d084e58d-e1a3-46bb-99c3-10b64714bc96"
      },
      "outputs": [
        {
          "data": {
            "text/plain": [
              "False"
            ]
          },
          "execution_count": 77,
          "metadata": {},
          "output_type": "execute_result"
        }
      ],
      "source": [
        "## Typecasting\n",
        "bool(0)"
      ]
    },
    {
      "cell_type": "code",
      "execution_count": null,
      "id": "80170bec-41e6-47f4-8175-31903d56ab07",
      "metadata": {
        "id": "80170bec-41e6-47f4-8175-31903d56ab07",
        "outputId": "76c6dd6d-2e3d-422e-949b-28c6d5984974"
      },
      "outputs": [
        {
          "data": {
            "text/plain": [
              "'23'"
            ]
          },
          "execution_count": 78,
          "metadata": {},
          "output_type": "execute_result"
        }
      ],
      "source": [
        "str(23)"
      ]
    },
    {
      "cell_type": "code",
      "execution_count": null,
      "id": "2f8b8904-63f7-4f58-9c07-33e3ed046c57",
      "metadata": {
        "id": "2f8b8904-63f7-4f58-9c07-33e3ed046c57",
        "outputId": "f5d794bc-d316-472b-e7c3-c42170ace1b0"
      },
      "outputs": [
        {
          "data": {
            "text/plain": [
              "23"
            ]
          },
          "execution_count": 79,
          "metadata": {},
          "output_type": "execute_result"
        }
      ],
      "source": [
        "int('23')"
      ]
    },
    {
      "cell_type": "code",
      "execution_count": null,
      "id": "f1ec5c3f-0c4b-40e1-9386-d06d7c818f36",
      "metadata": {
        "id": "f1ec5c3f-0c4b-40e1-9386-d06d7c818f36",
        "outputId": "df954ba0-1c48-4383-86c4-c6d1daa2ca18"
      },
      "outputs": [
        {
          "data": {
            "text/plain": [
              "int"
            ]
          },
          "execution_count": 80,
          "metadata": {},
          "output_type": "execute_result"
        }
      ],
      "source": [
        "type(int('23'))"
      ]
    },
    {
      "cell_type": "code",
      "execution_count": null,
      "id": "ba88b2c8-28ef-4480-a3a5-7a6749983e86",
      "metadata": {
        "id": "ba88b2c8-28ef-4480-a3a5-7a6749983e86",
        "outputId": "ddc78030-86e7-41c3-eed4-2ebf1be2957c"
      },
      "outputs": [
        {
          "data": {
            "text/plain": [
              "True"
            ]
          },
          "execution_count": 71,
          "metadata": {},
          "output_type": "execute_result"
        }
      ],
      "source": [
        "bool(1)"
      ]
    },
    {
      "cell_type": "code",
      "execution_count": null,
      "id": "d640e261-2add-4bcc-863a-61720fbf9ca6",
      "metadata": {
        "id": "d640e261-2add-4bcc-863a-61720fbf9ca6",
        "outputId": "1fd2066f-554d-4b5c-b585-f53bdd91e0b7"
      },
      "outputs": [
        {
          "name": "stdout",
          "output_type": "stream",
          "text": [
            "True\n"
          ]
        }
      ],
      "source": [
        "a=1\n",
        "if bool(a)==True:\n",
        "    \n",
        "    print(\"True\")"
      ]
    },
    {
      "cell_type": "code",
      "execution_count": null,
      "id": "23ad6da2-7e44-4f8a-99f3-0f994aadbffe",
      "metadata": {
        "id": "23ad6da2-7e44-4f8a-99f3-0f994aadbffe",
        "outputId": "ed50754d-a3fc-49f6-d379-735ba57383b4"
      },
      "outputs": [
        {
          "data": {
            "text/plain": [
              "123"
            ]
          },
          "execution_count": 85,
          "metadata": {},
          "output_type": "execute_result"
        }
      ],
      "source": [
        "int('123')"
      ]
    },
    {
      "cell_type": "markdown",
      "id": "5e3efeb7-a315-46e7-90c3-e1a3276f0767",
      "metadata": {
        "id": "5e3efeb7-a315-46e7-90c3-e1a3276f0767"
      },
      "source": [
        "### Dynamic Typing"
      ]
    },
    {
      "cell_type": "code",
      "execution_count": null,
      "id": "a2e0d9fb-b759-4f56-aa55-6e381adbc4da",
      "metadata": {
        "id": "a2e0d9fb-b759-4f56-aa55-6e381adbc4da"
      },
      "outputs": [],
      "source": [
        "a=12\n",
        "str1=\"Krissh\"\n",
        "a=\"var\""
      ]
    },
    {
      "cell_type": "code",
      "execution_count": null,
      "id": "a28c8802-996d-44b0-977b-59428c76cb68",
      "metadata": {
        "id": "a28c8802-996d-44b0-977b-59428c76cb68",
        "outputId": "8ab6e451-a86d-44f5-e044-5a08cffb3f0b"
      },
      "outputs": [
        {
          "name": "stdout",
          "output_type": "stream",
          "text": [
            "<class 'str'>\n"
          ]
        }
      ],
      "source": [
        "print(type(a))"
      ]
    },
    {
      "cell_type": "code",
      "execution_count": null,
      "id": "cf6e3443-acd9-45a5-b020-fd4ce7430d3b",
      "metadata": {
        "id": "cf6e3443-acd9-45a5-b020-fd4ce7430d3b",
        "outputId": "30fb334c-61c5-48dd-ca66-89e9d9685fa6"
      },
      "outputs": [
        {
          "data": {
            "text/plain": [
              "1"
            ]
          },
          "execution_count": 86,
          "metadata": {},
          "output_type": "execute_result"
        }
      ],
      "source": [
        "int(1.54)"
      ]
    },
    {
      "cell_type": "code",
      "execution_count": null,
      "id": "3b9500aa-2400-4bed-bd8b-888771f0682a",
      "metadata": {
        "id": "3b9500aa-2400-4bed-bd8b-888771f0682a"
      },
      "outputs": [],
      "source": [
        "## concatenation between different types"
      ]
    },
    {
      "cell_type": "code",
      "execution_count": null,
      "id": "9194b55a-dacb-4151-ba1a-55752727ed03",
      "metadata": {
        "id": "9194b55a-dacb-4151-ba1a-55752727ed03",
        "outputId": "f6748d4e-0e30-4eb9-8804-5c50a8441a59"
      },
      "outputs": [
        {
          "ename": "TypeError",
          "evalue": "unsupported operand type(s) for +: 'int' and 'str'",
          "output_type": "error",
          "traceback": [
            "\u001b[0;31m---------------------------------------------------------------------------\u001b[0m",
            "\u001b[0;31mTypeError\u001b[0m                                 Traceback (most recent call last)",
            "Cell \u001b[0;32mIn[90], line 1\u001b[0m\n\u001b[0;32m----> 1\u001b[0m \u001b[38;5;28;43mint\u001b[39;49m\u001b[43m(\u001b[49m\u001b[38;5;124;43m\"\u001b[39;49m\u001b[38;5;124;43m1\u001b[39;49m\u001b[38;5;124;43m\"\u001b[39;49m\u001b[43m)\u001b[49m\u001b[43m \u001b[49m\u001b[38;5;241;43m+\u001b[39;49m\u001b[43m \u001b[49m\u001b[38;5;124;43m\"\u001b[39;49m\u001b[38;5;124;43m1\u001b[39;49m\u001b[38;5;124;43m\"\u001b[39;49m\n",
            "\u001b[0;31mTypeError\u001b[0m: unsupported operand type(s) for +: 'int' and 'str'"
          ]
        }
      ],
      "source": [
        "int(\"1\") + \"1\""
      ]
    },
    {
      "cell_type": "code",
      "execution_count": null,
      "id": "2e3cbfe3-9e1a-43f5-8ef4-418e31a90e01",
      "metadata": {
        "id": "2e3cbfe3-9e1a-43f5-8ef4-418e31a90e01",
        "outputId": "764704c3-63c2-49ee-b460-e627e96fed31"
      },
      "outputs": [
        {
          "data": {
            "text/plain": [
              "'1111111111111111111111111111111111111111111111111111111111111111111111111111111111111111111111111111'"
            ]
          },
          "execution_count": 92,
          "metadata": {},
          "output_type": "execute_result"
        }
      ],
      "source": [
        "\"1\" * 100"
      ]
    },
    {
      "cell_type": "code",
      "execution_count": null,
      "id": "4ece8de7-4686-4635-9735-3f95b6d3660e",
      "metadata": {
        "id": "4ece8de7-4686-4635-9735-3f95b6d3660e"
      },
      "outputs": [],
      "source": []
    },
    {
      "cell_type": "code",
      "execution_count": null,
      "id": "aaa90912-fa74-44c5-9c17-9d552c8f8a91",
      "metadata": {
        "id": "aaa90912-fa74-44c5-9c17-9d552c8f8a91"
      },
      "outputs": [],
      "source": []
    },
    {
      "cell_type": "code",
      "execution_count": null,
      "id": "b57c6cf4-667e-463d-a1fb-780f61d15d91",
      "metadata": {
        "id": "b57c6cf4-667e-463d-a1fb-780f61d15d91"
      },
      "outputs": [],
      "source": []
    },
    {
      "cell_type": "code",
      "execution_count": null,
      "id": "e8e9009c-e8cd-421b-807f-4dd923a9f708",
      "metadata": {
        "id": "e8e9009c-e8cd-421b-807f-4dd923a9f708"
      },
      "outputs": [],
      "source": []
    }
  ],
  "metadata": {
    "kernelspec": {
      "display_name": "Python 3 (ipykernel)",
      "language": "python",
      "name": "python3"
    },
    "language_info": {
      "codemirror_mode": {
        "name": "ipython",
        "version": 3
      },
      "file_extension": ".py",
      "mimetype": "text/x-python",
      "name": "python",
      "nbconvert_exporter": "python",
      "pygments_lexer": "ipython3",
      "version": "3.10.8"
    },
    "colab": {
      "provenance": []
    }
  },
  "nbformat": 4,
  "nbformat_minor": 5
}