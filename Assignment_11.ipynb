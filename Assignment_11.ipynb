{
  "nbformat": 4,
  "nbformat_minor": 0,
  "metadata": {
    "colab": {
      "provenance": []
    },
    "kernelspec": {
      "name": "python3",
      "display_name": "Python 3"
    },
    "language_info": {
      "name": "python"
    }
  },
  "cells": [
    {
      "cell_type": "markdown",
      "source": [
        "Q1. What is an Exception in python? Write the difference between Exceptions and Syntax errors?"
      ],
      "metadata": {
        "id": "VMSNdO6ciSCP"
      }
    },
    {
      "cell_type": "markdown",
      "source": [
        "Ans1. In Python, an exception is an error that occurs during the execution of a program, which interrupts the normal flow of the program. When an exception occurs, Python raises an exception object, which can be caught and handled by the program.\n",
        "\n",
        "Syntax errors, on the other hand, are errors that occur when there is a problem with the syntax of the code. Syntax errors are detected by the Python interpreter when it tries to parse the program, and the program cannot be executed until the syntax errors are fixed.\n",
        "\n",
        "The main difference between exceptions and syntax errors is when they occur and how they are detected:\n",
        "\n",
        "1.Exceptions occur during the execution of a program, while syntax errors occur before the program is executed.\n",
        "\n",
        "2.Exceptions are detected by the Python interpreter when they occur during the execution of a program, while syntax errors are detected by the interpreter before the program is executed.\n",
        "\n",
        "3.Exceptions can be caught and handled by the program using try/except blocks, while syntax errors cannot be caught and handled in the same way."
      ],
      "metadata": {
        "id": "FX2-Xj8rjNmT"
      }
    },
    {
      "cell_type": "code",
      "source": [
        "# This is an example of a syntax error\n",
        "x = 10\n",
        "y = 0\n",
        "result = x / y  # This line will raise a ZeroDivisionError at runtime\n",
        "\n",
        "# This is an example of an exception\n",
        "try:\n",
        "    my_list = [1, 2, 3]\n",
        "    print(my_list[3])  # This line will raise an IndexError\n",
        "except IndexError:\n",
        "    print(\"Index out of range\")\n"
      ],
      "metadata": {
        "id": "mYyEVjQhiugU"
      },
      "execution_count": null,
      "outputs": []
    },
    {
      "cell_type": "markdown",
      "source": [
        "Q2. What happens when exception is not handled? Explain with an example."
      ],
      "metadata": {
        "id": "dJRlMrUxjwwQ"
      }
    },
    {
      "cell_type": "code",
      "source": [
        "# Ans2. If an exception is not handled in a program, the program will terminate abruptly and an error message will be displayed. \n",
        "# This can cause data loss or other undesirable effects, and can be particularly problematic in long-running programs, such as server processes or daemons.\n",
        "def divide(x, y):\n",
        "    return x / y\n",
        "\n",
        "result = divide(10, 0)  # This line will raise a ZeroDivisionError\n",
        "print(result)\n"
      ],
      "metadata": {
        "colab": {
          "base_uri": "https://localhost:8080/",
          "height": 356
        },
        "id": "MhQfLdZokaOg",
        "outputId": "361d3de2-ca90-48f7-f365-fae891b604fb"
      },
      "execution_count": 3,
      "outputs": [
        {
          "output_type": "error",
          "ename": "ZeroDivisionError",
          "evalue": "ignored",
          "traceback": [
            "\u001b[0;31m---------------------------------------------------------------------------\u001b[0m",
            "\u001b[0;31mZeroDivisionError\u001b[0m                         Traceback (most recent call last)",
            "\u001b[0;32m<ipython-input-3-296cd9915a36>\u001b[0m in \u001b[0;36m<module>\u001b[0;34m\u001b[0m\n\u001b[1;32m      4\u001b[0m     \u001b[0;32mreturn\u001b[0m \u001b[0mx\u001b[0m \u001b[0;34m/\u001b[0m \u001b[0my\u001b[0m\u001b[0;34m\u001b[0m\u001b[0;34m\u001b[0m\u001b[0m\n\u001b[1;32m      5\u001b[0m \u001b[0;34m\u001b[0m\u001b[0m\n\u001b[0;32m----> 6\u001b[0;31m \u001b[0mresult\u001b[0m \u001b[0;34m=\u001b[0m \u001b[0mdivide\u001b[0m\u001b[0;34m(\u001b[0m\u001b[0;36m10\u001b[0m\u001b[0;34m,\u001b[0m \u001b[0;36m0\u001b[0m\u001b[0;34m)\u001b[0m  \u001b[0;31m# This line will raise a ZeroDivisionError\u001b[0m\u001b[0;34m\u001b[0m\u001b[0;34m\u001b[0m\u001b[0m\n\u001b[0m\u001b[1;32m      7\u001b[0m \u001b[0mprint\u001b[0m\u001b[0;34m(\u001b[0m\u001b[0mresult\u001b[0m\u001b[0;34m)\u001b[0m\u001b[0;34m\u001b[0m\u001b[0;34m\u001b[0m\u001b[0m\n",
            "\u001b[0;32m<ipython-input-3-296cd9915a36>\u001b[0m in \u001b[0;36mdivide\u001b[0;34m(x, y)\u001b[0m\n\u001b[1;32m      2\u001b[0m \u001b[0;31m# This can cause data loss or other undesirable effects, and can be particularly problematic in long-running programs, such as server processes or daemons.\u001b[0m\u001b[0;34m\u001b[0m\u001b[0;34m\u001b[0m\u001b[0;34m\u001b[0m\u001b[0m\n\u001b[1;32m      3\u001b[0m \u001b[0;32mdef\u001b[0m \u001b[0mdivide\u001b[0m\u001b[0;34m(\u001b[0m\u001b[0mx\u001b[0m\u001b[0;34m,\u001b[0m \u001b[0my\u001b[0m\u001b[0;34m)\u001b[0m\u001b[0;34m:\u001b[0m\u001b[0;34m\u001b[0m\u001b[0;34m\u001b[0m\u001b[0m\n\u001b[0;32m----> 4\u001b[0;31m     \u001b[0;32mreturn\u001b[0m \u001b[0mx\u001b[0m \u001b[0;34m/\u001b[0m \u001b[0my\u001b[0m\u001b[0;34m\u001b[0m\u001b[0;34m\u001b[0m\u001b[0m\n\u001b[0m\u001b[1;32m      5\u001b[0m \u001b[0;34m\u001b[0m\u001b[0m\n\u001b[1;32m      6\u001b[0m \u001b[0mresult\u001b[0m \u001b[0;34m=\u001b[0m \u001b[0mdivide\u001b[0m\u001b[0;34m(\u001b[0m\u001b[0;36m10\u001b[0m\u001b[0;34m,\u001b[0m \u001b[0;36m0\u001b[0m\u001b[0;34m)\u001b[0m  \u001b[0;31m# This line will raise a ZeroDivisionError\u001b[0m\u001b[0;34m\u001b[0m\u001b[0;34m\u001b[0m\u001b[0m\n",
            "\u001b[0;31mZeroDivisionError\u001b[0m: division by zero"
          ]
        }
      ]
    },
    {
      "cell_type": "markdown",
      "source": [
        "Q3. Which Python statements are used to catch and handle exceptions? Explain within example"
      ],
      "metadata": {
        "id": "JpIPHkqplaFE"
      }
    },
    {
      "cell_type": "markdown",
      "source": [
        "Ans3. In Python, the try and except statements are used to catch and handle exceptions.\n",
        "\n",
        "The try statement encloses the code that might raise an exception, and the except statement specifies what to do if an exception is raised. If an exception is raised in the try block, control is transferred to the except block. If no exception is raised, the except block is skipped."
      ],
      "metadata": {
        "id": "ylJqGOHWmqGj"
      }
    },
    {
      "cell_type": "code",
      "source": [
        "# Here is an example that demonstrates how to catch and handle exceptions using the try and except statements:\n",
        "def divide(x, y):\n",
        "    try:\n",
        "        result = x / y\n",
        "    except ZeroDivisionError:\n",
        "        print(\"Error: division by zero\")\n",
        "        result = None\n",
        "    return result\n",
        "\n",
        "print(divide(10, 2))  # prints 5.0\n",
        "print(divide(10, 0))  # prints \"Error: division by zero\" and None\n"
      ],
      "metadata": {
        "colab": {
          "base_uri": "https://localhost:8080/"
        },
        "id": "tZKwN809lKHx",
        "outputId": "1abbb00d-f9cb-44a2-8c63-e6d55c0864ec"
      },
      "execution_count": 4,
      "outputs": [
        {
          "output_type": "stream",
          "name": "stdout",
          "text": [
            "5.0\n",
            "Error: division by zero\n",
            "None\n"
          ]
        }
      ]
    },
    {
      "cell_type": "markdown",
      "source": [
        "Q4. Explain with an example:\n",
        "\n",
        "a. try and else\n",
        "\n",
        "b. finally\n",
        "\n",
        "c. raise"
      ],
      "metadata": {
        "id": "H3bfjMHrnBWG"
      }
    },
    {
      "cell_type": "code",
      "source": [
        "# Ans4. a) try and else:\n",
        "# In Python, the try statement can also include an else block that is executed if no exceptions are raised. \n",
        "# This can be useful for executing code that should be run regardless of whether or not an exception is raised. Here is an example:\n",
        "try:\n",
        "    x = 1 / 0\n",
        "except ZeroDivisionError:\n",
        "    print(\"Error: division by zero\")\n",
        "else:\n",
        "    print(\"No exceptions raised\")\n"
      ],
      "metadata": {
        "colab": {
          "base_uri": "https://localhost:8080/"
        },
        "id": "_2NPlTZfm27f",
        "outputId": "27b8c5d3-d1a5-4823-9b03-64f3772ed88f"
      },
      "execution_count": 6,
      "outputs": [
        {
          "output_type": "stream",
          "name": "stdout",
          "text": [
            "Error: division by zero\n"
          ]
        }
      ]
    },
    {
      "cell_type": "code",
      "source": [
        "# b) finally:\n",
        "# The finally block is used in a try statement to specify a block of code that should be executed regardless of whether or not an exception is raised. \n",
        "# This can be useful for executing code that must be run regardless of the outcome of the try block. Here is an example:\n",
        "try:\n",
        "    f = open(\"myfile.txt\", \"r\")\n",
        "    data = f.read()\n",
        "except IOError:\n",
        "    print(\"Error: file not found or cannot be opened\")\n",
        "finally:\n",
        "    f.close()\n"
      ],
      "metadata": {
        "id": "rKSMNr2LortW"
      },
      "execution_count": null,
      "outputs": []
    },
    {
      "cell_type": "code",
      "source": [
        "# c) raise:\n",
        "# In Python, the raise statement is used to raise an exception. \n",
        "# This can be useful for indicating that an error has occurred in a program, or for raising custom exceptions. Here is an example:\n",
        "def divide(x, y):\n",
        "    if y == 0:\n",
        "        raise ZeroDivisionError(\"Error: division by zero\")\n",
        "    return x / y\n",
        "\n",
        "try:\n",
        "    result = divide(10, 0)\n",
        "except ZeroDivisionError as e:\n",
        "    print(e)"
      ],
      "metadata": {
        "colab": {
          "base_uri": "https://localhost:8080/"
        },
        "id": "jCaaX4OZoz84",
        "outputId": "29f78ca3-6c52-4303-887c-f381db37cbb5"
      },
      "execution_count": 8,
      "outputs": [
        {
          "output_type": "stream",
          "name": "stdout",
          "text": [
            "Error: division by zero\n"
          ]
        }
      ]
    },
    {
      "cell_type": "markdown",
      "source": [
        "Q5. What are Custom Exceptions in python? \n",
        "Why do we need Custom Exceptions? Explain within example."
      ],
      "metadata": {
        "id": "pVfdgS5OpKOq"
      }
    },
    {
      "cell_type": "markdown",
      "source": [
        "Ans5. In Python, we can define our own exceptions, which are called custom exceptions. Custom exceptions are useful for providing a more descriptive error message when a specific type of error occurs in our program.\n",
        "\n",
        "We need custom exceptions to make our code more readable and maintainable. By raising and catching custom exceptions, we can more easily identify the type of error that occurred, which can help us to debug the code more effectively. Additionally, custom exceptions can provide more informative error messages to end-users, which can make it easier for them to understand what went wrong with the program."
      ],
      "metadata": {
        "id": "jS72vjYApxbO"
      }
    },
    {
      "cell_type": "code",
      "source": [
        "# Here is an example of defining a custom exception in Python:\n",
        "\n",
        "class NegativeNumberError(Exception):\n",
        "    pass\n",
        "\n",
        "def sqrt(x):\n",
        "    if x < 0:\n",
        "        raise NegativeNumberError(\"Cannot take square root of a negative number\")\n",
        "    else:\n",
        "        return x**0.5\n",
        "\n",
        "try:\n",
        "    result = sqrt(-1)\n",
        "except NegativeNumberError as e:\n",
        "    print(e)\n",
        "\n"
      ],
      "metadata": {
        "colab": {
          "base_uri": "https://localhost:8080/"
        },
        "id": "zYol9k9Xo_9K",
        "outputId": "3607b9d0-1917-4223-a445-2c7e5d492738"
      },
      "execution_count": 9,
      "outputs": [
        {
          "output_type": "stream",
          "name": "stdout",
          "text": [
            "Cannot take square root of a negative number\n"
          ]
        }
      ]
    },
    {
      "cell_type": "markdown",
      "source": [
        "Q6. Create a custom exception class. Use this class to handle an exception."
      ],
      "metadata": {
        "id": "_U-FLHqrqFos"
      }
    },
    {
      "cell_type": "code",
      "source": [
        "class NegativeNumberError(Exception):\n",
        "    def __init__(self, message=\"Value cannot be negative.\"):\n",
        "        self.message = message\n",
        "        super().__init__(self.message)\n",
        "\n",
        "def square_root(x):\n",
        "    if x < 0:\n",
        "        raise NegativeNumberError()\n",
        "    else:\n",
        "        return x ** 0.5\n",
        "\n",
        "try:\n",
        "    result = square_root(-5)\n",
        "    print(result)\n",
        "except NegativeNumberError as e:\n",
        "    print(\"An error occurred:\", e.message)\n"
      ],
      "metadata": {
        "colab": {
          "base_uri": "https://localhost:8080/"
        },
        "id": "rQuJguYZqAJ8",
        "outputId": "92ff8baa-c8e7-4d37-ba92-8a3d5ea29e0f"
      },
      "execution_count": 10,
      "outputs": [
        {
          "output_type": "stream",
          "name": "stdout",
          "text": [
            "An error occurred: Value cannot be negative.\n"
          ]
        }
      ]
    },
    {
      "cell_type": "code",
      "source": [],
      "metadata": {
        "id": "A7p7obn_qtD5"
      },
      "execution_count": null,
      "outputs": []
    }
  ]
}