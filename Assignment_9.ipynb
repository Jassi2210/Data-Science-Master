{
  "nbformat": 4,
  "nbformat_minor": 0,
  "metadata": {
    "colab": {
      "provenance": []
    },
    "kernelspec": {
      "name": "python3",
      "display_name": "Python 3"
    },
    "language_info": {
      "name": "python"
    }
  },
  "cells": [
    {
      "cell_type": "code",
      "execution_count": 1,
      "metadata": {
        "id": "n_WoFw_PA0XM"
      },
      "outputs": [],
      "source": [
        "### Q1, Create a vehicle class with an init method having instance variables as name_of_vehicle, max_speed and average_of_vehicle.\n",
        "class Vehicle:\n",
        "    def __init__(self, name_of_vehicle, max_speed, avg_speed):\n",
        "        self.name_of_vehicle = name_of_vehicle\n",
        "        self.max_speed = max_speed\n",
        "        self.avg_speed = avg_speed\n"
      ]
    },
    {
      "cell_type": "code",
      "source": [
        "### Q2. Create a child class car from the vehicle class created in Que 1, which will inherit the vehicle class.\n",
        "#   Create a method named seating_capacity which takes capacity as an argument and returns the name of the vehicle and its seating capacity.\n",
        "class Car(Vehicle):\n",
        "    def seating_capacity(self, capacity):\n",
        "        return (f\"Name of Vehicle: {self.name_of_vehicle}\\nSeating Capacity: {capacity}\")\n"
      ],
      "metadata": {
        "id": "P1VXiymJBRn8"
      },
      "execution_count": 3,
      "outputs": []
    },
    {
      "cell_type": "code",
      "source": [
        "### Q3. What is multiple inheritance? Write a python code to demonstrate multiple inheritance.\n",
        "### Ans3. Multiple inheritance is a feature in object-oriented programming that allows a class to inherit attributes and methods from more than one parent class. \n",
        "#         This means that a single class can inherit attributes and behaviors from multiple parent classes, making it possible to reuse code from different sources.\n",
        "class Parent1:\n",
        "    def method1(self):\n",
        "        print(\"Parent1 Method\")\n",
        "\n",
        "class Parent2:\n",
        "    def method2(self):\n",
        "        print(\"Parent2 Method\")\n",
        "\n",
        "# Child class inherits from both Parent1 and Parent2\n",
        "class Child(Parent1, Parent2):\n",
        "    def method3(self):\n",
        "        print(\"Child Method\")\n",
        "\n",
        "# Instance of Child class\n",
        "child = Child()\n",
        "\n",
        "# Calling methods from Parent1 and Parent2\n",
        "child.method1()\n",
        "child.method2()\n",
        "\n",
        "# Calling method from Child\n",
        "child.method3()\n"
      ],
      "metadata": {
        "colab": {
          "base_uri": "https://localhost:8080/"
        },
        "id": "ItoccpWOCASx",
        "outputId": "e1bae3dd-d97e-4950-ad4d-32f82bb19fa4"
      },
      "execution_count": 4,
      "outputs": [
        {
          "output_type": "stream",
          "name": "stdout",
          "text": [
            "Parent1 Method\n",
            "Parent2 Method\n",
            "Child Method\n"
          ]
        }
      ]
    },
    {
      "cell_type": "code",
      "source": [
        "### Q4. What are getter and setter in python? Create a class and create a getter and a setter method in this class.\n",
        "## Ans4. Getters and setters are special methods in object-oriented programming that provide a way to access and modify the values of an object's attributes. \n",
        "##  In Python, getters and setters are often used to enforce encapsulation and control access to an object's attributes.\n",
        "\n",
        "class Person:\n",
        "    def __init__(self, name):\n",
        "        self._name = name\n",
        "\n",
        "    \n",
        "    @property\n",
        "    def name(self):\n",
        "        return self._name\n",
        "\n",
        "    \n",
        "    @name.setter\n",
        "    def name(self, name):\n",
        "        if not isinstance(name, str):\n",
        "            raise TypeError(\"Name must be a string\")\n",
        "        self._name = name\n",
        "\n",
        "\n",
        "person = Person(\"Jassi Singh\")\n",
        "\n",
        "print(person.name)\n",
        "\n",
        "person.name = \"Prince Singh\"\n",
        "print(person.name)\n"
      ],
      "metadata": {
        "colab": {
          "base_uri": "https://localhost:8080/"
        },
        "id": "Wm8X-jFDEAGa",
        "outputId": "ca90a838-0daa-4978-ff84-01f670d9ef9c"
      },
      "execution_count": 7,
      "outputs": [
        {
          "output_type": "stream",
          "name": "stdout",
          "text": [
            "Jassi Singh\n",
            "Prince Singh\n"
          ]
        }
      ]
    },
    {
      "cell_type": "code",
      "source": [
        "### Q5.What is method overriding in python? Write a python code to demonstrate method overriding.\n",
        "### Ans5. Method overriding in Python is a feature that allows a subclass to provide a different implementation of a method that is already defined in its superclass. \n",
        "##        The purpose of method overriding is to modify or extend the behavior of a method in a subclass.\n",
        "class Animal:\n",
        "    def make_sound(self):\n",
        "        print(\"The animal is making a sound.\")\n",
        "\n",
        "class Dog(Animal):\n",
        "    def make_sound(self):\n",
        "        print(\"The dog is barking.\")\n",
        "\n",
        "dog = Dog()\n",
        "dog.make_sound()\n"
      ],
      "metadata": {
        "colab": {
          "base_uri": "https://localhost:8080/"
        },
        "id": "ED-cqds3E5Hj",
        "outputId": "e7fff760-bbcb-4e04-f110-01d3a0d98e18"
      },
      "execution_count": 8,
      "outputs": [
        {
          "output_type": "stream",
          "name": "stdout",
          "text": [
            "The dog is barking.\n"
          ]
        }
      ]
    },
    {
      "cell_type": "code",
      "source": [],
      "metadata": {
        "id": "uTVBCuIRFtjy"
      },
      "execution_count": null,
      "outputs": []
    }
  ]
}