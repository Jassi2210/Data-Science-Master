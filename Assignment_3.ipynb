{
  "nbformat": 4,
  "nbformat_minor": 0,
  "metadata": {
    "colab": {
      "provenance": []
    },
    "kernelspec": {
      "name": "python3",
      "display_name": "Python 3"
    },
    "language_info": {
      "name": "python"
    }
  },
  "cells": [
    {
      "cell_type": "code",
      "source": [
        "### Q1. What are the characteristics of the tuples? Is tuple immutable?\n",
        "### Ans1. A tuple is an ordered, collection of elements, typically of different data types, which are grouped together in a single unit. Yes, tuple are immutable\n"
      ],
      "metadata": {
        "id": "j4I94mCOa8sk"
      },
      "execution_count": null,
      "outputs": []
    },
    {
      "cell_type": "code",
      "source": [
        "### Q2. What are the two tuple methods in python? Give an example of each method. Give a reason why  tuples have only two in-built methods as compared to Lists.                                                                                                     Ans2. In python, tuples have two built in methods:                                                                                            1.count( ): This method returns the no. of times a given element appears in a tuple.\n",
        "### Ans2. In Python, tuples have two built-in methods:\n",
        "\n",
        "## 1.count(): This method returns the number of times a given element appears in a tuple\n",
        "     my_tuple = (1, 2, 3, 2, 1)\n",
        "     my_tuple.count(2)\n",
        "     2\n",
        "\n",
        "## 2.index(): This method returns the index of the first occurrence of a given element in a tuple.\n",
        "     my_tuple = (1, 2, 3, 2, 1)\n",
        "     my_tuple.index(2)\n",
        "     1\n",
        "#Tuples have only two built-in methods compared to lists because tuples are intended to be simple, efficient, and lightweight data structures"
      ],
      "metadata": {
        "id": "73O9mBMyRb8R"
      },
      "execution_count": null,
      "outputs": []
    },
    {
      "cell_type": "code",
      "source": [
        "### Q3.  Which collection datatypes in python do not allow duplicate items? Write a code using a set to remove  duplicates from the given list. \n",
        "### List = [1, 1, 1, 2, 1, 3, 1, 4, 2, 1, 2, 2, 2, 3, 2, 4, 3, 1, 3, 2, 3, 3, 3, 4, 4, 1, 4, 2, 4, 3, 4, 4] \n",
        "### Ans3. In Python, the set data type does not allow duplicate items. To remove duplicates from a list, you can convert the list to a set and then back to a list. Here's an example:\n",
        "\n",
        "\n",
        "List = [1, 1, 1, 2, 1, 3, 1, 4, 2, 1, 2, 2, 2, 3, 2, 4, 3, 1, 3, 2, 3, 3, 3, 4, 4, 1, 4, 2, 4, 3, 4, 4]\n",
        "\n",
        "no_duplicates_list = list(set(List))\n",
        "\n",
        "print(no_duplicates_list)\n"
      ],
      "metadata": {
        "id": "RUZ-SUYCRcA7"
      },
      "execution_count": null,
      "outputs": []
    },
    {
      "cell_type": "code",
      "source": [
        "### Q4.  the dExplainifference between the union() and update() methods for a set. Give an example of  each method. \n",
        "### Ans4. union(): This method returns a new set that contains all the elements from both sets, without duplicates. The original sets are not modified\n",
        "\n",
        "\n",
        "set1 = {1, 2, 3}\n",
        "set2 = {3, 4, 5}\n",
        "set3 = set1.union(set2)\n",
        "print(set3)\n",
        "{1, 2, 3, 4, 5}\n",
        "\n",
        "## update(): This method adds all the elements from one set to another set, without duplicates. The set being updated is modified.\n",
        "set1 = {1, 2, 3}\n",
        "set2 = {3, 4, 5}\n",
        "set1.update(set2)\n",
        "print(set1)\n",
        "{1, 2, 3, 4, 5}\n"
      ],
      "metadata": {
        "id": "lhN_Yr05RcD0"
      },
      "execution_count": null,
      "outputs": []
    },
    {
      "cell_type": "code",
      "source": [
        "### Q5. What is a dictionary? Give an example. Also, state whether a dictionary is ordered or unordered.\n",
        "### Ans5. A dictionary in Python is a collection of key-value pairs, where each key is associated with a value. Dictionaries are also known as associative arrays, maps, or hash maps in other programming languages.\n",
        "## Dictionaries in Python are unordered, meaning that the elements in a dictionary are not stored in a particular order.\n",
        "\n",
        "  my_dict = {'name': 'Jasvinder Singh', 'age': 24, 'occupation': 'tutor'}\n"
      ],
      "metadata": {
        "id": "BkXDi87SRcG7"
      },
      "execution_count": null,
      "outputs": []
    },
    {
      "cell_type": "code",
      "source": [
        "### Q6. Can we create a nested dictionary? If so, please give an example by creating a simple one-level  nested dictionary. \n",
        "### Ans6. Yes, it is possible to create a nested dictionary in Python. A nested dictionary is a dictionary that contains one or more dictionaries as its values."
      ],
      "metadata": {
        "id": "yklSrYqfRcMo"
      },
      "execution_count": null,
      "outputs": []
    },
    {
      "cell_type": "code",
      "source": [
        "### Q7. Using setdefault() method, create key named topics in the given dictionary and also add the value of  the key as this list ['Python', 'Machine Learning’, 'Deep Learning'] \n",
        "### dict1 = {'language' : 'Python', 'course': 'Data Science Masters'} \n",
        "\n",
        "\n",
        "dict1 = {'language' : 'Python', 'course': 'Data Science Masters'}\n",
        "dict1.setdefault('topics', []).extend(['Python', 'Machine Learning', 'Deep Learning'])\n",
        "print(dict1)\n"
      ],
      "metadata": {
        "colab": {
          "base_uri": "https://localhost:8080/"
        },
        "id": "jcn2nUbKRcSo",
        "outputId": "d4351d75-261d-44b3-ba0c-f4c02e767b18"
      },
      "execution_count": 6,
      "outputs": [
        {
          "output_type": "stream",
          "name": "stdout",
          "text": [
            "{'language': 'Python', 'course': 'Data Science Masters', 'topics': ['Python', 'Machine Learning', 'Deep Learning']}\n"
          ]
        }
      ]
    },
    {
      "cell_type": "code",
      "source": [
        "### Q8. What are the three view objects in dictionaries? Use the three in-built methods in python to display  these three view objects for the given dictionary. \n",
        "### dict1 = {'Sport': 'Cricket' , 'Teams': ['India', 'Australia', 'England', 'South Africa', 'Sri Lanka', 'New Zealand']}\n",
        "### Ans8- In Python, dictionaries have three view objects: keys, values, and items.\n",
        "\n",
        "dict1 = {'Sport': 'Cricket' , 'Teams': ['India', 'Australia', 'England', 'South Africa', 'Sri Lanka', 'New Zealand']}\n",
        "\n",
        "# keys view object\n",
        "keys = dict1.keys()\n",
        "print(list(keys))\n",
        "\n",
        "# values view object\n",
        "values = dict1.values()\n",
        "print(list(values))\n",
        "\n",
        "# items view object\n",
        "items = dict1.items()\n",
        "print(list(items))\n"
      ],
      "metadata": {
        "colab": {
          "base_uri": "https://localhost:8080/"
        },
        "id": "W4S02wAzRcVY",
        "outputId": "458a3132-68de-4e5e-fe41-28fa59cbaacd"
      },
      "execution_count": 7,
      "outputs": [
        {
          "output_type": "stream",
          "name": "stdout",
          "text": [
            "['Sport', 'Teams']\n",
            "['Cricket', ['India', 'Australia', 'England', 'South Africa', 'Sri Lanka', 'New Zealand']]\n",
            "[('Sport', 'Cricket'), ('Teams', ['India', 'Australia', 'England', 'South Africa', 'Sri Lanka', 'New Zealand'])]\n"
          ]
        }
      ]
    },
    {
      "cell_type": "code",
      "source": [],
      "metadata": {
        "id": "9e61G5SFRcYs"
      },
      "execution_count": null,
      "outputs": []
    },
    {
      "cell_type": "code",
      "source": [],
      "metadata": {
        "id": "c6NUIB8URcbl"
      },
      "execution_count": null,
      "outputs": []
    },
    {
      "cell_type": "code",
      "source": [],
      "metadata": {
        "id": "mYTH-oDWRce6"
      },
      "execution_count": null,
      "outputs": []
    }
  ]
}