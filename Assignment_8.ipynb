{
  "nbformat": 4,
  "nbformat_minor": 0,
  "metadata": {
    "colab": {
      "provenance": []
    },
    "kernelspec": {
      "name": "python3",
      "display_name": "Python 3"
    },
    "language_info": {
      "name": "python"
    }
  },
  "cells": [
    {
      "cell_type": "code",
      "execution_count": 1,
      "metadata": {
        "id": "K1YNu-2y75dg"
      },
      "outputs": [],
      "source": [
        "### Q1. You are writing code for a company. The requirement of the company is that you create a python function that will check whether the password entered by the user is correct or not. The function should take the password as input and return the string “Valid Password” if the entered password follows the below-given password guidelines else it should return “Invalid Password”.\n",
        "###Note: 1. The Password should contain at least two uppercase letters and at least two lowercase letters.\n",
        "##       2. The Password should contain at least a number and three special characters.\n",
        "###      3. The length of the password should be 10 characters long.\n",
        "\n",
        "def validate_password(password):\n",
        "    # Check the length of the password\n",
        "    if len(password) != 10:\n",
        "        return \"Invalid Password\"\n",
        "    \n",
        "    # Check for at least two uppercase and two lowercase letters\n",
        "    uppercase_count = 0\n",
        "    lowercase_count = 0\n",
        "    for char in password:\n",
        "        if char.isupper():\n",
        "            uppercase_count += 1\n",
        "        elif char.islower():\n",
        "            lowercase_count += 1\n",
        "    \n",
        "    if uppercase_count < 2 or lowercase_count < 2:\n",
        "        return \"Invalid Password\"\n",
        "    \n",
        "    # Check for at least one number and three special characters\n",
        "    special_char_count = 0\n",
        "    has_number = False\n",
        "    for char in password:\n",
        "        if char.isdigit():\n",
        "            has_number = True\n",
        "        elif not char.isalnum():\n",
        "            special_char_count += 1\n",
        "    \n",
        "    if not has_number or special_char_count < 3:\n",
        "        return \"Invalid Password\"\n",
        "    \n",
        "    return \"Valid Password\"\n"
      ]
    },
    {
      "cell_type": "code",
      "source": [
        "password = \"Abcdef#gH1\"\n",
        "print(validate_password(password))"
      ],
      "metadata": {
        "colab": {
          "base_uri": "https://localhost:8080/"
        },
        "id": "iL6bztsa8TH_",
        "outputId": "6212e252-cf36-4990-d667-1ab515ad675a"
      },
      "execution_count": 2,
      "outputs": [
        {
          "output_type": "stream",
          "name": "stdout",
          "text": [
            "Invalid Password\n"
          ]
        }
      ]
    },
    {
      "cell_type": "code",
      "source": [],
      "metadata": {
        "id": "i744ymWK8fUk"
      },
      "execution_count": null,
      "outputs": []
    },
    {
      "cell_type": "markdown",
      "source": [
        "Q2. Solve the below-given questions using at least one of the following:\n",
        "1. Lambda functioJ\n",
        "2. Filter functioJ\n",
        "3. Zap functioJ\n",
        "4. List ComprehensioI\n",
        "B Check if the string starts with a particular letterY\n",
        "B Check if the string is numericY\n",
        "B Sort a list of tuples having fruit names and their quantity. [(\"mango\",99),(\"orange\",80), (\"grapes\", 1000)-\n",
        "B Find the squares of numbers from 1 to 10Y\n",
        "B Find the cube root of numbers from 1 to 10Y\n",
        "B Check if a given number is evenY\n",
        "B Filter odd numbers from the given list.\n",
        "[1,2,3,4,5,6,7,8,9,10-\n",
        "B Sort a list of integers into positive and negative integers lists.\n",
        "[1,2,3,4,5,6,-1,-2,-3,-4,-5,0]"
      ],
      "metadata": {
        "id": "CWjoVuKt9nPk"
      }
    },
    {
      "cell_type": "code",
      "source": [
        "### To check if a string starts with a particular letter\n",
        "string = \"Hello World\"\n",
        "starts_with_h = lambda s: s.startswith(\"H\")\n",
        "print(starts_with_h(string))\n"
      ],
      "metadata": {
        "colab": {
          "base_uri": "https://localhost:8080/"
        },
        "id": "J_kiU2AA9zVv",
        "outputId": "118c3709-7abf-4b3b-f3e1-e8a74ef7cb84"
      },
      "execution_count": 3,
      "outputs": [
        {
          "output_type": "stream",
          "name": "stdout",
          "text": [
            "True\n"
          ]
        }
      ]
    },
    {
      "cell_type": "code",
      "source": [
        "### To check if a string is numeric\n",
        "string = \"12345\"\n",
        "is_numeric = lambda s: s.isdigit()\n",
        "print(is_numeric(string))\n"
      ],
      "metadata": {
        "colab": {
          "base_uri": "https://localhost:8080/"
        },
        "id": "5_-oV40X-VPu",
        "outputId": "fceb7c65-2905-4601-d047-6bff54f1cc64"
      },
      "execution_count": 4,
      "outputs": [
        {
          "output_type": "stream",
          "name": "stdout",
          "text": [
            "True\n"
          ]
        }
      ]
    },
    {
      "cell_type": "code",
      "source": [
        "## To sort a list of tuples having fruit names and their quantity\n",
        "fruits = [(\"mango\", 99), (\"orange\", 80), (\"grapes\", 1000)]\n",
        "sorted_fruits = sorted(fruits, key=lambda x: x[1])\n",
        "print(sorted_fruits)\n"
      ],
      "metadata": {
        "colab": {
          "base_uri": "https://localhost:8080/"
        },
        "id": "pmoNsxJE-mH6",
        "outputId": "dac75ab9-d66c-4d54-c1b4-ac5a700d24d6"
      },
      "execution_count": 5,
      "outputs": [
        {
          "output_type": "stream",
          "name": "stdout",
          "text": [
            "[('orange', 80), ('mango', 99), ('grapes', 1000)]\n"
          ]
        }
      ]
    },
    {
      "cell_type": "code",
      "source": [
        "### To find the squares of numbers from 1 to 10:\n",
        "squared_numbers = list(map(lambda x: x**2, range(1, 11)))\n",
        "print(squared_numbers)\n"
      ],
      "metadata": {
        "colab": {
          "base_uri": "https://localhost:8080/"
        },
        "id": "dN1cMoXV-7CI",
        "outputId": "6b78a0e0-b2db-40d4-8856-3a9c2488411b"
      },
      "execution_count": 6,
      "outputs": [
        {
          "output_type": "stream",
          "name": "stdout",
          "text": [
            "[1, 4, 9, 16, 25, 36, 49, 64, 81, 100]\n"
          ]
        }
      ]
    },
    {
      "cell_type": "code",
      "source": [
        "### To find the cube root of numbers from 1 to 10:\n",
        "import math\n",
        "cubed_roots = list(map(lambda x: math.pow(x, 1/3), range(1, 11)))\n",
        "print(cubed_roots)\n"
      ],
      "metadata": {
        "colab": {
          "base_uri": "https://localhost:8080/"
        },
        "id": "sKoEVb8K_ML3",
        "outputId": "94f120e4-3c8e-465e-8cf0-929e8b6f0491"
      },
      "execution_count": 7,
      "outputs": [
        {
          "output_type": "stream",
          "name": "stdout",
          "text": [
            "[1.0, 1.2599210498948732, 1.4422495703074083, 1.5874010519681994, 1.7099759466766968, 1.8171205928321397, 1.912931182772389, 2.0, 2.080083823051904, 2.154434690031884]\n"
          ]
        }
      ]
    },
    {
      "cell_type": "code",
      "source": [
        "### To check if a given number is even:\n",
        "number = 4\n",
        "is_even = lambda x: x % 2 == 0\n",
        "print(is_even(number))\n"
      ],
      "metadata": {
        "colab": {
          "base_uri": "https://localhost:8080/"
        },
        "id": "xScuBz-__c7s",
        "outputId": "6e2b4283-a0dc-42fe-e0c0-c1b9fc9b6399"
      },
      "execution_count": 8,
      "outputs": [
        {
          "output_type": "stream",
          "name": "stdout",
          "text": [
            "True\n"
          ]
        }
      ]
    },
    {
      "cell_type": "code",
      "source": [
        "### To filter odd numbers from a given list [1,2,3,4,5,6,7,8,9,10]\n",
        "numbers = [1, 2, 3, 4, 5, 6, 7, 8, 9, 10]\n",
        "odd_numbers = list(filter(lambda x: x % 2 != 0, numbers))\n",
        "print(odd_numbers)\n"
      ],
      "metadata": {
        "colab": {
          "base_uri": "https://localhost:8080/"
        },
        "id": "vtcahV3E_vZ3",
        "outputId": "8f331904-2725-41c4-9ad0-435da1b9d236"
      },
      "execution_count": 9,
      "outputs": [
        {
          "output_type": "stream",
          "name": "stdout",
          "text": [
            "[1, 3, 5, 7, 9]\n"
          ]
        }
      ]
    },
    {
      "cell_type": "code",
      "source": [
        "###Sort a list of integers into positive and negative integers lists. [1,2,3,4,5,6,-1,-2,-3,-4,-5,0]\n",
        "numbers = [1, 2, 3, 4, 5, 6, -1, -2, -3, -4, -5, 0]\n",
        "positive_numbers = list(filter(lambda x: x > 0, numbers))\n",
        "negative_numbers = list(filter(lambda x: x < 0, numbers))\n",
        "print(\"Positive numbers:\", positive_numbers)\n",
        "print(\"Negative numbers:\", negative_numbers)\n"
      ],
      "metadata": {
        "colab": {
          "base_uri": "https://localhost:8080/"
        },
        "id": "26vSPI7qAE9j",
        "outputId": "22b04aa4-6168-401e-bf28-5a4143ca30c8"
      },
      "execution_count": 10,
      "outputs": [
        {
          "output_type": "stream",
          "name": "stdout",
          "text": [
            "Positive numbers: [1, 2, 3, 4, 5, 6]\n",
            "Negative numbers: [-1, -2, -3, -4, -5]\n"
          ]
        }
      ]
    },
    {
      "cell_type": "code",
      "source": [],
      "metadata": {
        "id": "fUkqH3GJARM-"
      },
      "execution_count": null,
      "outputs": []
    }
  ]
}