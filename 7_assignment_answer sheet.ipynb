{
  "nbformat": 4,
  "nbformat_minor": 0,
  "metadata": {
    "colab": {
      "provenance": []
    },
    "kernelspec": {
      "name": "python3",
      "display_name": "Python 3"
    },
    "language_info": {
      "name": "python"
    }
  },
  "cells": [
    {
      "cell_type": "code",
      "execution_count": 1,
      "metadata": {
        "id": "OvS2280O25wl"
      },
      "outputs": [],
      "source": [
        "### Q1. Create a function which will take a list as an argument and return the product of all the numbers after creating a flat list.\n",
        "##  Use the below-given list as an argument for your function.\n",
        "##  list1 = [1,2,3,4, [44,55,66, True], False, (34,56,78,89,34), {1,2,3,3,2,1}, {1:34, \"key2\": [55, 67, 78, 89], 4: (45,22, 61, 34)}, [56, 'data science'], 'Machine Learning']\n",
        "##  Note: you must extract numeric keys and values of the dictionary also.\n",
        "\n",
        "def product_of_all_numbers(lst):\n",
        "    flat_list = []\n",
        "    for item in lst:\n",
        "        if type(item) == int:\n",
        "            flat_list.append(item)\n",
        "        elif type(item) == float:\n",
        "            flat_list.append(item)\n",
        "        elif type(item) == tuple:\n",
        "            for sub_item in item:\n",
        "                if type(sub_item) == int:\n",
        "                    flat_list.append(sub_item)\n",
        "                elif type(sub_item) == float:\n",
        "                    flat_list.append(sub_item)\n",
        "        elif type(item) == list:\n",
        "            for sub_item in item:\n",
        "                if type(sub_item) == int:\n",
        "                    flat_list.append(sub_item)\n",
        "                elif type(sub_item) == float:\n",
        "                    flat_list.append(sub_item)\n",
        "                elif type(sub_item) == str and sub_item.isdigit():\n",
        "                    flat_list.append(int(sub_item))\n",
        "        elif type(item) == set:\n",
        "            for sub_item in item:\n",
        "                if type(sub_item) == int:\n",
        "                    flat_list.append(sub_item)\n",
        "                elif type(sub_item) == float:\n",
        "                    flat_list.append(sub_item)\n",
        "        elif type(item) == dict:\n",
        "            for key, value in item.items():\n",
        "                if type(key) == int:\n",
        "                    flat_list.append(key)\n",
        "                elif type(key) == float:\n",
        "                    flat_list.append(key)\n",
        "                if type(value) == int:\n",
        "                    flat_list.append(value)\n",
        "                elif type(value) == float:\n",
        "                    flat_list.append(value)\n",
        "                elif type(value) == list:\n",
        "                    for sub_value in value:\n",
        "                        if type(sub_value) == int:\n",
        "                            flat_list.append(sub_value)\n",
        "                        elif type(sub_value) == float:\n",
        "                            flat_list.append(sub_value)\n",
        "    if len(flat_list) == 0:\n",
        "        return None\n",
        "    else:\n",
        "        product = 1\n",
        "        for number in flat_list:\n",
        "            product *= number\n",
        "        return product\n"
      ]
    },
    {
      "cell_type": "code",
      "source": [
        "list1 = [1, 2, 3, 4, [44, 55, 66, True], False, (34, 56, 78, 89, 34), {1, 2, 3, 3, 2, 1}, {1: 34, \"key2\": [55, 67, 78, 89], 4: (45, 22, 61, 34)}, [56, 'data science'], 'Machine Learning']\n",
        "print(product_of_all_numbers(list1))\n"
      ],
      "metadata": {
        "colab": {
          "base_uri": "https://localhost:8080/"
        },
        "id": "k_GI-2wo3GlG",
        "outputId": "f3c24e52-f3a7-43b8-caf3-2c870f7fa854"
      },
      "execution_count": 2,
      "outputs": [
        {
          "output_type": "stream",
          "name": "stdout",
          "text": [
            "2013730282081706885067571200\n"
          ]
        }
      ]
    },
    {
      "cell_type": "code",
      "source": [
        "### Q2. Write a python program for encrypting a message sent to you by your friend. The logic of encryption should be such that, for a the output should be z. For b, the output should be y. For c, the output should be x respectively. Also, the whitespace should be replaced with a dollar sign. Keep the punctuation marks unchanged.\n",
        "##  Input Sentence: I want to become a Data Scientist.\n",
        "##  Encrypt the above input sentence using the program you just created.\n",
        "##  Note: Convert the given input sentence into lowercase before encrypting. The final output should be lowercase.\n",
        "\n",
        "\n",
        "def encrypt_message(message):\n",
        "    message = message.lower()\n",
        "    encrypted_message = ''\n",
        "    for char in message:\n",
        "        if char.isalpha():\n",
        "            encrypted_message += chr(122 - ord(char) + 97)\n",
        "        elif char == ' ':\n",
        "            encrypted_message += '$'\n",
        "        else:\n",
        "            encrypted_message += char\n",
        "    return encrypted_message\n",
        "input_sentence = \"I want to become a Data Scientist.\"\n",
        "print(encrypt_message(input_sentence))\n"
      ],
      "metadata": {
        "colab": {
          "base_uri": "https://localhost:8080/"
        },
        "id": "WwvzTdCc3NFB",
        "outputId": "20f37136-2f2c-4984-b268-07c9e8e6d49d"
      },
      "execution_count": 4,
      "outputs": [
        {
          "output_type": "stream",
          "name": "stdout",
          "text": [
            "r$dzmg$gl$yvxlnv$z$wzgz$hxrvmgrhg.\n"
          ]
        }
      ]
    },
    {
      "cell_type": "code",
      "source": [],
      "metadata": {
        "id": "tHpgCHaM5efx"
      },
      "execution_count": null,
      "outputs": []
    }
  ]
}