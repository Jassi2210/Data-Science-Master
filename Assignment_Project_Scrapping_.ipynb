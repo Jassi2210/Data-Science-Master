{
  "nbformat": 4,
  "nbformat_minor": 0,
  "metadata": {
    "colab": {
      "provenance": []
    },
    "kernelspec": {
      "name": "python3",
      "display_name": "Python 3"
    },
    "language_info": {
      "name": "python"
    }
  },
  "cells": [
    {
      "cell_type": "code",
      "source": [
        "import requests\n",
        "from bs4 import BeautifulSoup\n",
        "import csv"
      ],
      "metadata": {
        "id": "rcdf-Y42ASfJ"
      },
      "execution_count": null,
      "outputs": []
    },
    {
      "cell_type": "code",
      "source": [
        "url = 'https://www.youtube.com/@PW-Foundation/videos'\n",
        "response = requests.get(url)"
      ],
      "metadata": {
        "id": "HNKdzLmSAb0Z"
      },
      "execution_count": null,
      "outputs": []
    },
    {
      "cell_type": "code",
      "source": [
        "soup = BeautifulSoup(response.text, 'html.parser')"
      ],
      "metadata": {
        "id": "e761dHlDAeWR"
      },
      "execution_count": null,
      "outputs": []
    },
    {
      "cell_type": "code",
      "source": [
        "video_urls = []\n",
        "for link in soup.find_all('a', href=True):\n",
        "    if '/watch?v=' in link['href']:\n",
        "        video_urls.append('https://www.youtube.com' + link['href'])\n",
        "        if len(video_urls) == 5:\n",
        "            break"
      ],
      "metadata": {
        "id": "m7q3ZjZnAhsD"
      },
      "execution_count": null,
      "outputs": []
    },
    {
      "cell_type": "code",
      "source": [
        "for url in video_urls:\n",
        "    print(url)"
      ],
      "metadata": {
        "id": "3XL6PIp6Akoy"
      },
      "execution_count": null,
      "outputs": []
    },
    {
      "cell_type": "code",
      "source": [
        "thumbnail_urls = []\n",
        "for thumbnail in soup.find_all('img', {'class': 'style-scope yt-img-shadow'}):\n",
        "    thumbnail_url = thumbnail['src']\n",
        "    if 'hqdefault' in thumbnail_url:\n",
        "        thumbnail_urls.append(thumbnail_url)\n",
        "        if len(thumbnail_urls) == 5:\n",
        "            break"
      ],
      "metadata": {
        "id": "eonNY1ycAnWZ"
      },
      "execution_count": null,
      "outputs": []
    },
    {
      "cell_type": "code",
      "source": [
        "for url in thumbnail_urls:\n",
        "    print(url)"
      ],
      "metadata": {
        "id": "5ectLIeOAyMP"
      },
      "execution_count": null,
      "outputs": []
    },
    {
      "cell_type": "code",
      "source": [
        "video_titles = []\n",
        "for title in soup.find_all('a', {'class': 'yt-simple-endpoint style-scope ytd-grid-video-renderer'}):\n",
        "    video_title = title.get('title')\n",
        "    if video_title:\n",
        "        video_titles.append(video_title)\n",
        "        if len(video_titles) == 5:\n",
        "            break"
      ],
      "metadata": {
        "id": "FI_3P-ffA0je"
      },
      "execution_count": null,
      "outputs": []
    },
    {
      "cell_type": "code",
      "source": [
        "for title in video_titles:\n",
        "    print(title)"
      ],
      "metadata": {
        "id": "2HqchzHaA446"
      },
      "execution_count": null,
      "outputs": []
    },
    {
      "cell_type": "code",
      "source": [
        "video_views = []\n",
        "for views in soup.find_all('span', {'class': 'style-scope ytd-grid-video-renderer'}):\n",
        "    if 'views' in views.text:\n",
        "        video_views.append(views.text.strip())\n",
        "        if len(video_views) == 5:\n",
        "            break"
      ],
      "metadata": {
        "id": "mSg1KaWIA7e9"
      },
      "execution_count": null,
      "outputs": []
    },
    {
      "cell_type": "code",
      "source": [
        "for views in video_views:\n",
        "    print(views)"
      ],
      "metadata": {
        "id": "0xv9Rbr_A-bq"
      },
      "execution_count": null,
      "outputs": []
    },
    {
      "cell_type": "code",
      "source": [
        "video_times = []\n",
        "for time in soup.find_all('span', {'class': 'style-scope ytd-grid-video-renderer'}):\n",
        "    if 'ago' in time.text:\n",
        "        video_times.append(time.text.strip())\n",
        "        if len(video_times) == 5:\n",
        "            break"
      ],
      "metadata": {
        "id": "AcYNnZHUBAvZ"
      },
      "execution_count": null,
      "outputs": []
    },
    {
      "cell_type": "code",
      "source": [
        "for time in video_times:\n",
        "    print(time)"
      ],
      "metadata": {
        "id": "xZ9yAbHFBDUM"
      },
      "execution_count": null,
      "outputs": []
    },
    {
      "cell_type": "code",
      "source": [
        "with open('jassi_pwskills.csv', 'w', newline='') as csvfile:\n",
        "    writer = csv.writer(csvfile)\n",
        "    writer.writerow(['Title', 'Video URL', 'Thumbnail URL', 'Views', 'Time of Posting'])\n",
        "    for video in video_data:\n",
        "        writer.writerow(video)"
      ],
      "metadata": {
        "id": "fjYPT3ptBFuZ",
        "outputId": "8a788461-83bf-4e40-edd7-a0ba55e7fb6c",
        "colab": {
          "base_uri": "https://localhost:8080/",
          "height": 217
        }
      },
      "execution_count": null,
      "outputs": [
        {
          "output_type": "error",
          "ename": "NameError",
          "evalue": "ignored",
          "traceback": [
            "\u001b[0;31m---------------------------------------------------------------------------\u001b[0m",
            "\u001b[0;31mNameError\u001b[0m                                 Traceback (most recent call last)",
            "\u001b[0;32m<ipython-input-15-1b72c66c8d32>\u001b[0m in \u001b[0;36m<module>\u001b[0;34m\u001b[0m\n\u001b[1;32m      2\u001b[0m     \u001b[0mwriter\u001b[0m \u001b[0;34m=\u001b[0m \u001b[0mcsv\u001b[0m\u001b[0;34m.\u001b[0m\u001b[0mwriter\u001b[0m\u001b[0;34m(\u001b[0m\u001b[0mcsvfile\u001b[0m\u001b[0;34m)\u001b[0m\u001b[0;34m\u001b[0m\u001b[0;34m\u001b[0m\u001b[0m\n\u001b[1;32m      3\u001b[0m     \u001b[0mwriter\u001b[0m\u001b[0;34m.\u001b[0m\u001b[0mwriterow\u001b[0m\u001b[0;34m(\u001b[0m\u001b[0;34m[\u001b[0m\u001b[0;34m'Title'\u001b[0m\u001b[0;34m,\u001b[0m \u001b[0;34m'Video URL'\u001b[0m\u001b[0;34m,\u001b[0m \u001b[0;34m'Thumbnail URL'\u001b[0m\u001b[0;34m,\u001b[0m \u001b[0;34m'Views'\u001b[0m\u001b[0;34m,\u001b[0m \u001b[0;34m'Time of Posting'\u001b[0m\u001b[0;34m]\u001b[0m\u001b[0;34m)\u001b[0m\u001b[0;34m\u001b[0m\u001b[0;34m\u001b[0m\u001b[0m\n\u001b[0;32m----> 4\u001b[0;31m     \u001b[0;32mfor\u001b[0m \u001b[0mvideo\u001b[0m \u001b[0;32min\u001b[0m \u001b[0mvideo_data\u001b[0m\u001b[0;34m:\u001b[0m\u001b[0;34m\u001b[0m\u001b[0;34m\u001b[0m\u001b[0m\n\u001b[0m\u001b[1;32m      5\u001b[0m         \u001b[0mwriter\u001b[0m\u001b[0;34m.\u001b[0m\u001b[0mwriterow\u001b[0m\u001b[0;34m(\u001b[0m\u001b[0mvideo\u001b[0m\u001b[0;34m)\u001b[0m\u001b[0;34m\u001b[0m\u001b[0;34m\u001b[0m\u001b[0m\n",
            "\u001b[0;31mNameError\u001b[0m: name 'video_data' is not defined"
          ]
        }
      ]
    },
    {
      "cell_type": "code",
      "source": [],
      "metadata": {
        "id": "xkzg29u1TjpL"
      },
      "execution_count": null,
      "outputs": []
    }
  ]
}