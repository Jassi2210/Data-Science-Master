{
  "nbformat": 4,
  "nbformat_minor": 0,
  "metadata": {
    "colab": {
      "provenance": []
    },
    "kernelspec": {
      "name": "python3",
      "display_name": "Python 3"
    },
    "language_info": {
      "name": "python"
    }
  },
  "cells": [
    {
      "cell_type": "markdown",
      "source": [
        "Q1. Which function is used to open a file? What are the different modes of opening a file? Explain each mode\n",
        "of file opening."
      ],
      "metadata": {
        "id": "bjFK1OLSbVPk"
      }
    },
    {
      "cell_type": "code",
      "source": [
        "# The open() function is used to open a file in Python. The syntax for opening a file is as follows:\n",
        "# The filename parameter specifies the name of the file that needs to be opened, and the mode parameter specifies the purpose of opening the file.\n",
        "\n",
        "# There are different modes in which a file can be opened. These modes are:\n",
        "\n",
        "# r : This mode is used to read a file. If the file does not exist, it will raise a FileNotFoundError.\n",
        "\n",
        "# w : This mode is used to write to a file. If the file exists, it will truncate the file to zero length. If the file does not exist, it will create a new file.\n",
        "\n",
        "# a : This mode is used to append to an existing file. If the file does not exist, it will create a new file.\n",
        "\n",
        "# x : This mode is used to create a new file. If the file already exists, it will raise a FileExistsError.\n",
        "\n",
        "# b : This mode is used to read or write a binary file.\n",
        "\n",
        "# t : This mode is used to read or write a text file. This is the default mode.\n",
        "\n",
        "# + : This mode is used to open a file for reading and writing.\n",
        "\n",
        "file_object = open(filename, mode)\n"
      ],
      "metadata": {
        "id": "Gk39R_6Ybejt"
      },
      "execution_count": null,
      "outputs": []
    },
    {
      "cell_type": "markdown",
      "source": [
        "Q2. Why close() function is used? Why is it important to close a file?"
      ],
      "metadata": {
        "id": "22Jr4kd0bTSc"
      }
    },
    {
      "cell_type": "markdown",
      "source": [
        "Ans 2.The close() function in Python is used to close an open file. Once a file has been opened, it remains open until it is closed. The close() function releases the system resources that were allocated to the file when it was opened.\n",
        "It is important to close a file using the close() function in Python to ensure that all data is written to the file, to release system resources, and to prevent errors and data loss."
      ],
      "metadata": {
        "id": "h3F-HHshc2pX"
      }
    },
    {
      "cell_type": "markdown",
      "source": [
        "Q3. Write a python program to create a text file. Write ‘I want to become a Data Scientist’ in that file. Then\n",
        "close the file. Open this file and read the content of the file."
      ],
      "metadata": {
        "id": "SoBMuBo-dVuU"
      }
    },
    {
      "cell_type": "code",
      "source": [
        "file = open('my_file.txt', 'w')\n",
        "file.write('I want to become a Data Scientist')\n",
        "file.close()\n",
        "file = open('my_file.txt', 'r')\n",
        "content = file.read()\n",
        "print(content)\n",
        "file.close()\n"
      ],
      "metadata": {
        "colab": {
          "base_uri": "https://localhost:8080/"
        },
        "id": "mccAyCQYcjO4",
        "outputId": "c2778bc4-0a7b-4f52-a6ac-ed5d1d8516f3"
      },
      "execution_count": 2,
      "outputs": [
        {
          "output_type": "stream",
          "name": "stdout",
          "text": [
            "I want to become a Data Scientist\n"
          ]
        }
      ]
    },
    {
      "cell_type": "markdown",
      "source": [
        "Q4. Explain the following with python code: read(), readline() and readlines()."
      ],
      "metadata": {
        "id": "DgCmeMFqdv_n"
      }
    },
    {
      "cell_type": "markdown",
      "source": [
        "Ans4. read(): The read() function reads the entire content of a file and returns it as a string.\n",
        "\n",
        "      readline(): The readline() function reads a single line from the file and returns it as a string.\n",
        "      \n",
        "      readlines(): The readlines() function reads all the lines of a file and returns them as a list of strings."
      ],
      "metadata": {
        "id": "coEUb213eHxB"
      }
    },
    {
      "cell_type": "markdown",
      "source": [
        "Q5. Explain why with statement is used with open(). What is the advantage of using with statement and\n",
        "open() together?"
      ],
      "metadata": {
        "id": "6hKxmJlTe9IE"
      }
    },
    {
      "cell_type": "code",
      "source": [
        "# Ans5. In Python, the with statement is used with the open() function to work with files in a more efficient and safer way.\n",
        "# The with statement provides a way for the file to be automatically closed when the block of code inside the with statement is exited, even if an exception occurs.\n",
        "\n",
        "# Here is an example of how to use the with statement and open() function to read the contents of a file:\n",
        "\n",
        "with open('my_file.txt', 'r') as file:\n",
        "    content = file.read()\n",
        "    print(content)\n"
      ],
      "metadata": {
        "colab": {
          "base_uri": "https://localhost:8080/"
        },
        "id": "AaTJbhqidtdf",
        "outputId": "0f6ac004-52fe-431e-b6cd-d65a07d889ab"
      },
      "execution_count": 3,
      "outputs": [
        {
          "output_type": "stream",
          "name": "stdout",
          "text": [
            "I want to become a Data Scientist\n"
          ]
        }
      ]
    },
    {
      "cell_type": "code",
      "source": [],
      "metadata": {
        "id": "9aDVd6FZfU0P"
      },
      "execution_count": null,
      "outputs": []
    },
    {
      "cell_type": "markdown",
      "source": [
        "Q6. Explain the write() and writelines() functions. Give a suitable example."
      ],
      "metadata": {
        "id": "iDeZvNwNfbD6"
      }
    },
    {
      "cell_type": "code",
      "source": [
        "# The write() function is used to write the string 'I want to become a Data Scientist' to the file 'my_file.txt'. \n",
        "# The write() function overwrites the existing contents of the file, so if the file already exists, its previous contents will be lost.\n",
        "\n",
        "file = open('my_file.txt', 'w')\n",
        "file.write('I want to become a Data Scientist')\n",
        "file.close()\n"
      ],
      "metadata": {
        "id": "ZqyH9leOfgck"
      },
      "execution_count": 4,
      "outputs": []
    },
    {
      "cell_type": "code",
      "source": [
        "# The writelines() function is used to write a list of strings to the file 'my_file.txt'. Each string in the list is written to the file as a separate line. \n",
        "# The writelines() function does not add any line breaks to the end of each string, so if line breaks are desired, they must be added manually.\n",
        "\n",
        "file = open('my_file.txt', 'w')\n",
        "lines = ['I want to become a Data Scientist', 'I love coding', 'Python is my favorite programming language']\n",
        "file.writelines(lines)\n",
        "file.close()\n"
      ],
      "metadata": {
        "id": "Q7necQIghGC1"
      },
      "execution_count": 5,
      "outputs": []
    },
    {
      "cell_type": "code",
      "source": [],
      "metadata": {
        "id": "t9FTe8q0hYMp"
      },
      "execution_count": null,
      "outputs": []
    }
  ]
}