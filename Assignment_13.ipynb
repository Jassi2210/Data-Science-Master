{
  "nbformat": 4,
  "nbformat_minor": 0,
  "metadata": {
    "colab": {
      "provenance": []
    },
    "kernelspec": {
      "name": "python3",
      "display_name": "Python 3"
    },
    "language_info": {
      "name": "python"
    }
  },
  "cells": [
    {
      "cell_type": "markdown",
      "source": [
        "Q1. What is multithreading in python? Why is it used? Name the module used to handle threads in python.\n",
        "\n",
        "Ans1. Multithreading in Python is a technique that allows a program to execute multiple threads (smaller units of a program) concurrently within a single process. Each thread runs independently of the others and can perform a separate task or function at the same time.\n",
        "\n",
        "Multithreading is used in Python to improve the performance of programs that have to perform multiple tasks simultaneously. For example, a web server that receives multiple requests at the same time can use multithreading to process each request concurrently, improving its overall response time.\n",
        "\n",
        "In Python, the threading module is used to handle threads. The threading module provides a simple way to create and manage threads in a program. With the help of the threading module, developers can create and run multiple threads at the same time, allowing them to perform multiple tasks simultaneously. The threading module provides a Thread class, which is used to create new threads, and several other functions and classes for working with threads."
      ],
      "metadata": {
        "id": "DsYCh4Qpx8p1"
      }
    },
    {
      "cell_type": "code",
      "execution_count": null,
      "metadata": {
        "id": "_AuBRNRCxwpk"
      },
      "outputs": [],
      "source": []
    },
    {
      "cell_type": "markdown",
      "source": [
        "Q2. Why threading module used? Write the use of the following functions:\n",
        "\n",
        "Ans2. a) activeCount(): This method returns the number of active threads in the current process. It can be called without any arguments, and it returns an integer value that represents the number of active threads in the program.\n",
        " \n",
        "b) currentThread(): This method returns the current thread object. It can be called without any arguments, and it returns the thread object that represents the current thread.\n",
        " \n",
        "c) enumerate(): This method returns a list of all the active threads in the current process. It can be called without any arguments, and it returns a list of thread objects that represent each active thread."
      ],
      "metadata": {
        "id": "8E8_DAF8yUtb"
      }
    },
    {
      "cell_type": "code",
      "source": [
        "# activeCount():\n",
        "import threading\n",
        "\n",
        "def my_thread_func():\n",
        "    print(\"Hello from a thread!\")\n",
        "\n",
        "t = threading.Thread(target=my_thread_func)\n",
        "t.start()\n",
        "\n",
        "print(\"Number of active threads:\", threading.activeCount())\n"
      ],
      "metadata": {
        "colab": {
          "base_uri": "https://localhost:8080/"
        },
        "id": "LENjaWmLy-sb",
        "outputId": "09d644b7-8f8a-4deb-df58-4351a1f25392"
      },
      "execution_count": 1,
      "outputs": [
        {
          "output_type": "stream",
          "name": "stdout",
          "text": [
            "Hello from a thread!\n",
            "Number of active threads: 10\n"
          ]
        }
      ]
    },
    {
      "cell_type": "code",
      "source": [
        "# currentThread():\n",
        "import threading\n",
        "\n",
        "def my_thread_func():\n",
        "    print(\"Hello from thread:\", threading.currentThread().name)\n",
        "\n",
        "t = threading.Thread(target=my_thread_func)\n",
        "t.start()\n"
      ],
      "metadata": {
        "colab": {
          "base_uri": "https://localhost:8080/"
        },
        "id": "zCOPCdn-zUYY",
        "outputId": "a5b1898d-e1e1-47a4-9ecf-70d963f8ecd9"
      },
      "execution_count": 2,
      "outputs": [
        {
          "output_type": "stream",
          "name": "stdout",
          "text": [
            "Hello from thread: Thread-12\n"
          ]
        }
      ]
    },
    {
      "cell_type": "code",
      "source": [
        "# enumerate():\n",
        "import threading\n",
        "\n",
        "def my_thread_func():\n",
        "    print(\"Hello from thread:\", threading.currentThread().name)\n",
        "\n",
        "t1 = threading.Thread(target=my_thread_func)\n",
        "t2 = threading.Thread(target=my_thread_func)\n",
        "t1.start()\n",
        "t2.start()\n",
        "\n",
        "for thread in threading.enumerate():\n",
        "    print(\"Active thread:\", thread.name)\n"
      ],
      "metadata": {
        "colab": {
          "base_uri": "https://localhost:8080/"
        },
        "id": "K37Kpw6Rza9E",
        "outputId": "06b4c8ad-8d80-47f1-c8df-96333e2fa823"
      },
      "execution_count": 3,
      "outputs": [
        {
          "output_type": "stream",
          "name": "stdout",
          "text": [
            "Hello from thread: Thread-13\n",
            "Hello from thread: Thread-14\n",
            "Active thread: MainThread\n",
            "Active thread: Thread-2\n",
            "Active thread: Thread-3\n",
            "Active thread: Thread-1\n",
            "Active thread: pydevd.Writer\n",
            "Active thread: pydevd.Reader\n",
            "Active thread: pydevd.CommandThread\n",
            "Active thread: pydevd.CheckAliveThread\n",
            "Active thread: Thread-9\n",
            "Active thread: _colab_inspector_thread\n"
          ]
        }
      ]
    },
    {
      "cell_type": "code",
      "source": [],
      "metadata": {
        "id": "mMGHs7B-zhGN"
      },
      "execution_count": null,
      "outputs": []
    },
    {
      "cell_type": "markdown",
      "source": [
        "Q3-- Explain the following functions:\n",
        "\n",
        "Ans3-- 1. run(): This method is the entry point for the thread, and it defines the code that will be executed in the thread. It can be overridden in a subclass to customize the behavior of the thread. When the start() method is called on a thread object, it automatically calls the run() method in a new thread.\n",
        " \n",
        " 2.start(): This method starts the thread by calling the run() method in a new thread. When the start() method is called, a new thread is created and the run() method is called in the new thread.\n",
        " \n",
        " 3.join(): This method waits for the thread to complete before continuing execution in the main thread. It can be called on a thread object to block the main thread until the thread has completed its work.\n",
        "\n",
        "4.isAlive(): This method returns a boolean value that indicates whether the thread is currently executing or has completed its work. It can be called on a thread object to check whether the thread is still running."
      ],
      "metadata": {
        "id": "r_xFNu2gzjFn"
      }
    },
    {
      "cell_type": "code",
      "source": [
        "# run()\n",
        "import threading\n",
        "\n",
        "class MyThread(threading.Thread):\n",
        "    def run(self):\n",
        "        print(\"Hello from a thread!\")\n",
        "\n",
        "t = MyThread()\n",
        "t.start()\n"
      ],
      "metadata": {
        "colab": {
          "base_uri": "https://localhost:8080/"
        },
        "id": "PQ7FyTGG0leA",
        "outputId": "e3aa5ba1-25d5-4a71-da1a-478fd9f0b40d"
      },
      "execution_count": 4,
      "outputs": [
        {
          "output_type": "stream",
          "name": "stdout",
          "text": [
            "Hello from a thread!\n"
          ]
        }
      ]
    },
    {
      "cell_type": "code",
      "source": [
        "# start()\n",
        "import threading\n",
        "\n",
        "def my_thread_func():\n",
        "    print(\"Hello from a thread!\")\n",
        "\n",
        "t = threading.Thread(target=my_thread_func)\n",
        "t.start()\n"
      ],
      "metadata": {
        "colab": {
          "base_uri": "https://localhost:8080/"
        },
        "id": "Y7QNZ_Fp015L",
        "outputId": "33949c3f-ff7d-4a5d-8d7a-1bdd8a59d358"
      },
      "execution_count": 5,
      "outputs": [
        {
          "output_type": "stream",
          "name": "stdout",
          "text": [
            "Hello from a thread!\n"
          ]
        }
      ]
    },
    {
      "cell_type": "code",
      "source": [
        "# join()\n",
        "import threading\n",
        "\n",
        "def my_thread_func():\n",
        "    print(\"Hello from a thread!\")\n",
        "\n",
        "t = threading.Thread(target=my_thread_func)\n",
        "t.start()\n",
        "t.join()\n",
        "print(\"Thread has completed its work.\")\n"
      ],
      "metadata": {
        "colab": {
          "base_uri": "https://localhost:8080/"
        },
        "id": "BzoetnDt06xE",
        "outputId": "83b36dd1-79b6-4d8c-cfdd-b38e947be31c"
      },
      "execution_count": 6,
      "outputs": [
        {
          "output_type": "stream",
          "name": "stdout",
          "text": [
            "Hello from a thread!\n",
            "Thread has completed its work.\n"
          ]
        }
      ]
    },
    {
      "cell_type": "code",
      "source": [
        "# isAlive()\n",
        "import threading\n",
        "import time\n",
        "\n",
        "def my_thread_func():\n",
        "    time.sleep(2)\n",
        "    print(\"Hello from a thread!\")\n",
        "\n",
        "t = threading.Thread(target=my_thread_func)\n",
        "t.start()\n",
        "\n",
        "while t.isAlive():\n",
        "    print(\"Thread is still running...\")\n",
        "    time.sleep(1)\n",
        "\n",
        "print(\"Thread has completed its work.\")\n"
      ],
      "metadata": {
        "colab": {
          "base_uri": "https://localhost:8080/"
        },
        "id": "42qvQNqN0-52",
        "outputId": "a8ed8e42-68b3-4b56-b1e6-b0fa24113f49"
      },
      "execution_count": 7,
      "outputs": [
        {
          "output_type": "stream",
          "name": "stderr",
          "text": [
            "<ipython-input-7-9e921b7f2c30>:12: DeprecationWarning: isAlive() is deprecated, use is_alive() instead\n",
            "  while t.isAlive():\n"
          ]
        },
        {
          "output_type": "stream",
          "name": "stdout",
          "text": [
            "Thread is still running...\n",
            "Thread is still running...\n",
            "Hello from a thread!\n",
            "Thread has completed its work.\n"
          ]
        }
      ]
    },
    {
      "cell_type": "code",
      "source": [],
      "metadata": {
        "id": "jMk-iMrc1ESs"
      },
      "execution_count": null,
      "outputs": []
    },
    {
      "cell_type": "markdown",
      "source": [
        "Q4. Write a python program to create two threads. Thread one must print the list of squares and thread two must print the list of cubes."
      ],
      "metadata": {
        "id": "At-PbEA11LLV"
      }
    },
    {
      "cell_type": "code",
      "source": [
        "# Ans4-- \n",
        "import threading\n",
        "\n",
        "def print_squares(n):\n",
        "    for i in range(1, n+1):\n",
        "        print(i**2)\n",
        "\n",
        "def print_cubes(n):\n",
        "    for i in range(1, n+1):\n",
        "        print(i**3)\n",
        "\n",
        "if __name__ == '__main__':\n",
        "    n = 5\n",
        "    \n",
        "    # Create two threads, one for printing squares and the other for printing cubes\n",
        "    t1 = threading.Thread(target=print_squares, args=(n,))\n",
        "    t2 = threading.Thread(target=print_cubes, args=(n,))\n",
        "\n",
        "    # Start both threads\n",
        "    t1.start()\n",
        "    t2.start()\n",
        "\n",
        "    # Wait for both threads to finish\n",
        "    t1.join()\n",
        "    t2.join()\n",
        "\n",
        "    print(\"Done\")\n"
      ],
      "metadata": {
        "colab": {
          "base_uri": "https://localhost:8080/"
        },
        "id": "OYOmAq5y1cvX",
        "outputId": "b8b6d942-0cc2-481a-d173-9c244a8aba0a"
      },
      "execution_count": 8,
      "outputs": [
        {
          "output_type": "stream",
          "name": "stdout",
          "text": [
            "1\n",
            "4\n",
            "9\n",
            "1\n",
            "816\n",
            "27\n",
            "64\n",
            "125\n",
            "\n",
            "25\n",
            "Done\n"
          ]
        }
      ]
    },
    {
      "cell_type": "code",
      "source": [],
      "metadata": {
        "id": "CwQSTwvi1fm6"
      },
      "execution_count": null,
      "outputs": []
    },
    {
      "cell_type": "markdown",
      "source": [
        "Q5. State advantages and disadvantages of multithreading?\n",
        "\n",
        "Ans5-- Advantages:\n",
        "\n",
        "1.Improved performance: Multithreading can improve the performance of an application by allowing it to perform multiple tasks simultaneously. This can make the application more responsive and efficient.\n",
        "\n",
        "2.Better resource utilization: Multithreading allows an application to make better use of the available resources, such as the CPU and memory, by distributing tasks across multiple threads.\n",
        "\n",
        "3.Simplified program structure: Multithreading can simplify the structure of a program by breaking it down into smaller, more manageable units of work.\n",
        "\n",
        "Disadvantages:\n",
        "\n",
        "1.Increased complexity: Multithreading can increase the complexity of an application, making it more difficult to write, debug, and maintain.\n",
        "\n",
        "2.Synchronization issues: Multithreading can introduce synchronization issues, such as race conditions, deadlock, and livelock. These issues can be difficult to identify and resolve.\n",
        "\n",
        "3.Resource contention: Multithreading can lead to resource contention, where multiple threads compete for the same resource, such as a file or a network connection. This can lead to performance degradation and unpredictable behavior.\n",
        "\n",
        "4.Overhead: Multithreading introduces overhead due to the additional work required to manage the threads, such as context switching and thread synchronization. This overhead can reduce the overall performance of the application."
      ],
      "metadata": {
        "id": "zfXPV6071sTW"
      }
    },
    {
      "cell_type": "code",
      "source": [],
      "metadata": {
        "id": "Fk296jlt2GXb"
      },
      "execution_count": null,
      "outputs": []
    },
    {
      "cell_type": "markdown",
      "source": [
        "Q6. Explain deadlocks and race conditions.\n",
        "\n",
        "Ans6-- Deadlock:\n",
        "A deadlock occurs when two or more threads are blocked, waiting for each other to release a resource. In a deadlock situation, none of the threads can proceed, and the program is effectively stuck. Deadlocks can be difficult to detect and resolve, and they can lead to performance degradation or even crashes.\n",
        "\n",
        "Race Condition:\n",
        "A race condition occurs when the outcome of a program depends on the order in which two or more threads execute. In other words, the behavior of the program is not deterministic and can be unpredictable. Race conditions can lead to bugs, crashes, and other unexpected behavior."
      ],
      "metadata": {
        "id": "lOP9Xf5I2JXX"
      }
    },
    {
      "cell_type": "code",
      "source": [],
      "metadata": {
        "id": "gCIIeSBw2cwU"
      },
      "execution_count": null,
      "outputs": []
    }
  ]
}