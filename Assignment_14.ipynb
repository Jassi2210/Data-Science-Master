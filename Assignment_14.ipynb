{
  "nbformat": 4,
  "nbformat_minor": 0,
  "metadata": {
    "colab": {
      "provenance": []
    },
    "kernelspec": {
      "name": "python3",
      "display_name": "Python 3"
    },
    "language_info": {
      "name": "python"
    }
  },
  "cells": [
    {
      "cell_type": "code",
      "execution_count": null,
      "metadata": {
        "id": "ZLrOkox7I6lH"
      },
      "outputs": [],
      "source": []
    },
    {
      "cell_type": "markdown",
      "source": [
        "Q1. What is multiprocessing in python? Why is it useful?\n",
        "\n",
        "Ans1. Multiprocessing in Python is a module that enables a programmer to write parallel programs that can utilize multiple CPUs or cores of a computer to perform multiple tasks concurrently.\n",
        "\n",
        "Multiprocessing is useful for several reasons, including:\n",
        "\n",
        "1.Faster execution: By dividing a program into smaller sub-tasks, multiprocessing allows you to use all the available CPU cores, which can lead to faster execution of the program.\n",
        "\n",
        "2.Improved performance: When a program is divided into smaller sub-tasks, it's possible to assign each task to a separate process. This way, if one process fails, it doesn't affect the other processes, and the program can continue to run.\n",
        "\n",
        "3.Better resource utilization: Multiprocessing allows you to make better use of your computer's resources by utilizing all the available CPU cores."
      ],
      "metadata": {
        "id": "sWIGPnOPI-_1"
      }
    },
    {
      "cell_type": "code",
      "source": [],
      "metadata": {
        "id": "KM9uALAcJXkf"
      },
      "execution_count": null,
      "outputs": []
    },
    {
      "cell_type": "markdown",
      "source": [
        "Q2. What are the differences between multiprocessing and multithreading?\n",
        "\n",
        "Ans2. Multiprocessing and multithreading are two different ways of achieving parallelism in a program. While both can help improve the performance of a program, there are some key differences between them:\n",
        "\n",
        "1.Memory sharing: In multiprocessing, each process has its own memory space, and they communicate through inter-process communication mechanisms like pipes or queues. In contrast, multithreading shares the same memory space, which can lead to issues such as race conditions and deadlocks.\n",
        "\n",
        "2.Resource allocation: Multiprocessing allows you to utilize multiple CPUs or cores, while multithreading runs multiple threads within the same process, utilizing a single CPU or core.\n",
        "\n",
        "3.Concurrency: Multiprocessing allows for true concurrency, meaning that multiple processes can execute at the same time, while multithreading only allows for concurrent execution, where different threads share the same CPU and execute interleaved.\n",
        "\n",
        "4.Programming complexity: Multiprocessing is generally easier to program than multithreading because it avoids many of the issues that arise from shared memory. In contrast, multithreading requires careful synchronization of threads to avoid race conditions and deadlocks.\n",
        "\n",
        "5.Process isolation: In multiprocessing, each process is isolated from the others and can't access each other's memory. This makes it easier to write programs that are resistant to bugs or other issues that could affect the entire program. In contrast, multithreading shares the same memory space, which can lead to issues where a single thread can crash the entire program."
      ],
      "metadata": {
        "id": "NrJ2HTPGJY3y"
      }
    },
    {
      "cell_type": "code",
      "source": [],
      "metadata": {
        "id": "IHJ6XRPxJ0sq"
      },
      "execution_count": null,
      "outputs": []
    },
    {
      "cell_type": "markdown",
      "source": [
        "Q3. Write a python code to create a process using the multiprocessing module."
      ],
      "metadata": {
        "id": "AHuZeUmwJ5DO"
      }
    },
    {
      "cell_type": "code",
      "source": [
        "# Ans3. \n",
        "\n",
        "import multiprocessing\n",
        "\n",
        "def process_function():\n",
        "    # Code to be executed in the new process\n",
        "    print(\"New process started\")\n",
        "\n",
        "if __name__ == '__main__':\n",
        "    # Create a new process\n",
        "    new_process = multiprocessing.Process(target=process_function)\n",
        "\n",
        "    # Start the process\n",
        "    new_process.start()\n",
        "\n",
        "    # Wait for the process to complete\n",
        "    new_process.join()\n",
        "\n",
        "    # Process completed\n",
        "    print(\"New process completed\")\n"
      ],
      "metadata": {
        "colab": {
          "base_uri": "https://localhost:8080/"
        },
        "id": "44SCdGRkKCSJ",
        "outputId": "cd490b9a-a09b-46c9-c344-c0af07137e7c"
      },
      "execution_count": 1,
      "outputs": [
        {
          "output_type": "stream",
          "name": "stdout",
          "text": [
            "New process started\n",
            "New process completed\n"
          ]
        }
      ]
    },
    {
      "cell_type": "code",
      "source": [],
      "metadata": {
        "id": "u9_Fls8BKGSj"
      },
      "execution_count": null,
      "outputs": []
    },
    {
      "cell_type": "markdown",
      "source": [
        "Q4. What is a multiprocessing pool in python? Why is it used?\n",
        "\n",
        "Ans4. A multiprocessing pool in Python is a mechanism that allows you to parallelize the execution of a function across multiple CPUs or cores. It provides a convenient way to distribute work among multiple processes and collect the results in a single place.\n",
        "\n",
        "The multiprocessing pool is created using the multiprocessing.Pool class. The class provides several methods for distributing work among the available processes, including:\n",
        "\n",
        "1.map(): This method applies a function to each item in an iterable and returns a list of results. The function is executed in parallel across the available processes.\n",
        "\n",
        "2.imap(): This method is similar to map(), but returns an iterator that allows you to process the results as they become available, instead of waiting for all results to be computed.\n",
        "\n",
        "3.apply(): This method applies a function to a single argument and returns the result. The function is executed in parallel across the available processes.\n",
        "\n",
        "4.apply_async(): This method is similar to apply(), but returns an asynchronous result that can be retrieved later using the get() method."
      ],
      "metadata": {
        "id": "mJdCi8cwKHgR"
      }
    },
    {
      "cell_type": "code",
      "source": [],
      "metadata": {
        "id": "F3TsYk7WKbvg"
      },
      "execution_count": null,
      "outputs": []
    },
    {
      "cell_type": "markdown",
      "source": [
        "Q5. How can we create a pool of worker processes in python using the multiprocessing module?\n",
        "\n",
        "Ans5. To create a pool of worker processes in Python using the multiprocessing module, you can use the multiprocessing.Pool() class. Here's an example code snippet that demonstrates how to create a pool of worker processes and use it to parallelize the execution of a function across multiple processes:"
      ],
      "metadata": {
        "id": "E4at72bXKfvg"
      }
    },
    {
      "cell_type": "code",
      "source": [
        "import multiprocessing\n",
        "\n",
        "# Function to be executed in parallel\n",
        "def square(n):\n",
        "    return n*n\n",
        "\n",
        "if __name__ == '__main__':\n",
        "    # Create a pool of worker processes\n",
        "    with multiprocessing.Pool(processes=4) as pool:\n",
        "        # Apply the 'square' function to each item in the list in parallel\n",
        "        result = pool.map(square, [1, 2, 3, 4, 5])\n",
        "\n",
        "    # Print the result\n",
        "    print(result)\n"
      ],
      "metadata": {
        "colab": {
          "base_uri": "https://localhost:8080/"
        },
        "id": "1MhsCq0NKrzF",
        "outputId": "650a255b-1032-4674-b5b7-665ee80d5d6e"
      },
      "execution_count": 2,
      "outputs": [
        {
          "output_type": "stream",
          "name": "stdout",
          "text": [
            "[1, 4, 9, 16, 25]\n"
          ]
        }
      ]
    },
    {
      "cell_type": "markdown",
      "source": [
        "Q6. Write a python program to create 4 processes, each process should print a different number using the\n",
        "multiprocessing module in python.\n",
        "\n"
      ],
      "metadata": {
        "id": "pMumOGAtKfb5"
      }
    },
    {
      "cell_type": "code",
      "source": [
        "# Ans6.\n",
        "\n",
        "import multiprocessing\n",
        "\n",
        "def print_number(num):\n",
        "    print(\"Process {0} prints {1}\".format(multiprocessing.current_process().name, num))\n",
        "\n",
        "if __name__ == '__main__':\n",
        "    processes = []\n",
        "\n",
        "    # Create 4 processes\n",
        "    for i in range(4):\n",
        "        p = multiprocessing.Process(target=print_number, args=(i,))\n",
        "        processes.append(p)\n",
        "        p.start()\n",
        "\n",
        "    # Wait for all processes to complete\n",
        "    for p in processes:\n",
        "        p.join()\n"
      ],
      "metadata": {
        "colab": {
          "base_uri": "https://localhost:8080/"
        },
        "id": "ASP-jlk-K6_Q",
        "outputId": "a7a9e7a3-651c-4954-c9de-c4caa2d07d26"
      },
      "execution_count": 3,
      "outputs": [
        {
          "output_type": "stream",
          "name": "stdout",
          "text": [
            "Process Process-6 prints 0Process Process-7 prints 1\n",
            "Process Process-8 prints 2\n",
            "\n",
            "Process Process-9 prints 3\n"
          ]
        }
      ]
    },
    {
      "cell_type": "code",
      "source": [],
      "metadata": {
        "id": "zQMomqfJLAj-"
      },
      "execution_count": null,
      "outputs": []
    }
  ]
}