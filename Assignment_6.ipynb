{
  "nbformat": 4,
  "nbformat_minor": 0,
  "metadata": {
    "colab": {
      "provenance": []
    },
    "kernelspec": {
      "name": "python3",
      "display_name": "Python 3"
    },
    "language_info": {
      "name": "python"
    }
  },
  "cells": [
    {
      "cell_type": "code",
      "execution_count": null,
      "metadata": {
        "id": "oDKtJTD0rm5R"
      },
      "outputs": [],
      "source": [
        "### Q1. Explain Class and Object with respect to Object-Oriented Programming. Give a suitable example. \n",
        "### Ans1-- Class: In object-oriented programming, a class is a blueprint for creating objects, providing initial values for state, and implementations of behavior .\n",
        "\n",
        "        # Object: An object is an instance of a class, which is a specific representation of the class with its own state and behavior.\n",
        "\n",
        "class Car:\n",
        "    def __init__(self, make, model, year):\n",
        "        self.make = make\n",
        "        self.model = model\n",
        "        self.year = year\n",
        "    \n",
        "    def show_details(self):\n",
        "        print(f\"Make: {self.make}\")\n",
        "        print(f\"Model: {self.model}\")\n",
        "        print(f\"Year: {self.year}\")\n",
        "\n",
        "car = Car(\"Toyota\", \"Camry\", 2020)\n",
        "car.show_details()\n"
      ]
    },
    {
      "cell_type": "code",
      "source": [
        "####Q2. Name the four pillars of OOPs.\n",
        "###Ans2--The four pillars of Object-Oriented Programming (OOP) are:\n",
        "\n",
        "### 1.Encapsulation\n",
        "### 2.Inheritance\n",
        "### 3.Polymorphism\n",
        "### 4.Abstraction"
      ],
      "metadata": {
        "id": "ZRDJZCiOPAp_"
      },
      "execution_count": null,
      "outputs": []
    },
    {
      "cell_type": "code",
      "source": [
        "### Q3. Explain why the __init__() function is used. Give a suitable example.\n",
        "### Ans3-- The __init__ method, also known as a constructor, is used to initialize an object's state when it is created. It is automatically called when an object of the class is created and allows you to set default values for attributes and perform any other necessary initializations.\n",
        "  ## In Python, the __init__ method is defined as:\n",
        "\n",
        "class pwskills:\n",
        "    \n",
        "    def __init__(self ,phone_number , email_id, student_id ):\n",
        "        \n",
        "        self.phone_number = phone_number\n",
        "        self.email_id = email_id\n",
        "        self.student_id = student_id\n",
        "        \n",
        "    \n",
        "    def return_student_detials(self):\n",
        "        return self.phone_number, self.email_id , self.student_id\n",
        "        \n"
      ],
      "metadata": {
        "id": "qx5jXuOAP1uc"
      },
      "execution_count": 5,
      "outputs": []
    },
    {
      "cell_type": "code",
      "source": [
        "### Q4. Why self is used in OOPs?\n",
        "### Ans4-- In Object-Oriented Programming (OOP), self is a reference to the instance of the class and is used to access its attributes and methods. In other words, it refers to the current object of the class.\n",
        "## The use of self is mandatory in all class methods in Python to distinguish between instance-level attributes and class-level attributes and to ensure that the correct instance is being modified."
      ],
      "metadata": {
        "id": "muNxcDhVQWUj"
      },
      "execution_count": null,
      "outputs": []
    },
    {
      "cell_type": "code",
      "source": [
        "### Q5. What is inheritance? Give an example for each type of inheritance.\n",
        "### Ans5-- Inheritance is a mechanism in Object-Oriented Programming (OOP) where one class can inherit the properties and behavior of another class. The class that inherits from another class is called the subclass or derived class, while the class from which the subclass is derived is called the base class or superclass.\n",
        "## There are several types of inheritance in OOP, including:\n"
      ],
      "metadata": {
        "id": "zfN3hmH5RSw6"
      },
      "execution_count": 6,
      "outputs": []
    },
    {
      "cell_type": "code",
      "source": [
        "\n",
        "## 1) Single inheritance: When a subclass inherits from a single base class, it is known as single inheritance.\n",
        "\n",
        "class Animal:\n",
        "    def __init__(self, name, species):\n",
        "        self.name = name\n",
        "        self.species = species\n",
        "    \n",
        "    def show_species(self):\n",
        "        print(f\"{self.name} is a {self.species}\")\n",
        "\n",
        "class Dog(Animal):\n",
        "    def __init__(self, name, breed):\n",
        "        Animal.__init__(self, name, species=\"Dog\")\n",
        "        self.breed = breed\n",
        "    \n",
        "    def show_breed(self):\n",
        "        print(f\"{self.name} is a {self.breed} breed\")\n",
        "\n",
        "dog = Dog(\"Buddy\", \"Labrador\")\n",
        "dog.show_species()     \n",
        "dog.show_breed()        \n"
      ],
      "metadata": {
        "colab": {
          "base_uri": "https://localhost:8080/"
        },
        "id": "LQvDATElS83c",
        "outputId": "257621dc-7768-422f-f025-0db1b9d74e1e"
      },
      "execution_count": 7,
      "outputs": [
        {
          "output_type": "stream",
          "name": "stdout",
          "text": [
            "Buddy is a Dog\n",
            "Buddy is a Labrador breed\n"
          ]
        }
      ]
    },
    {
      "cell_type": "code",
      "source": [
        "### 2) Multi-level inheritance: When a subclass inherits from a base class and then another subclass inherits from the first subclass, it is known as multi-level inheritance.\n",
        "\n",
        "\n",
        "class Animal:\n",
        "    def __init__(self, name, species):\n",
        "        self.name = name\n",
        "        self.species = species\n",
        "    \n",
        "    def show_species(self):\n",
        "        print(f\"{self.name} is a {self.species}\")\n",
        "\n",
        "class Dog(Animal):\n",
        "    def __init__(self, name, breed):\n",
        "        Animal.__init__(self, name, species=\"Dog\")\n",
        "        self.breed = breed\n",
        "    \n",
        "    def show_breed(self):\n",
        "        print(f\"{self.name} is a {self.breed} breed\")\n",
        "\n",
        "class GoldenRetriever(Dog):\n",
        "    def __init__(self, name):\n",
        "        Dog.__init__(self, name, breed=\"Golden Retriever\")\n",
        "    \n",
        "    def show_breed(self):\n",
        "        print(f\"{self.name} is a {self.breed}\")\n",
        "\n",
        "golden_retriever = GoldenRetriever(\"Max\")\n",
        "golden_retriever.show_species()    \n",
        "golden_retriever.show_breed()        \n"
      ],
      "metadata": {
        "colab": {
          "base_uri": "https://localhost:8080/"
        },
        "id": "OpvSTdSLTC7U",
        "outputId": "e83816fa-01cc-48cd-a80d-e09e966c4c1e"
      },
      "execution_count": 8,
      "outputs": [
        {
          "output_type": "stream",
          "name": "stdout",
          "text": [
            "Max is a Dog\n",
            "Max is a Golden Retriever\n"
          ]
        }
      ]
    },
    {
      "cell_type": "code",
      "source": [
        "### 3) Multiple inheritance: When a subclass inherits from multiple base classes, it is known as multiple inheritance.\n",
        "\n",
        "class Engine:\n",
        "    def __init__(self, fuel_type, displacement):\n",
        "        self.fuel_type = fuel_type\n",
        "        self.displacement = displacement\n",
        "    \n",
        "    def show_fuel_type(self):\n",
        "        print(f\"Engine uses {self.fuel_type}\")\n",
        "    \n",
        "    def show_displacement(self):\n",
        "        print(f\"Engine has a displacement of {self.displacement}\")\n",
        "\n",
        "class Car:\n",
        "    def __init__(self, make, model, year):\n",
        "        self.make = make\n"
      ],
      "metadata": {
        "id": "KMx7n3SYTNGc"
      },
      "execution_count": 9,
      "outputs": []
    },
    {
      "cell_type": "code",
      "source": [],
      "metadata": {
        "id": "L3UV462KTYf9"
      },
      "execution_count": null,
      "outputs": []
    }
  ]
}