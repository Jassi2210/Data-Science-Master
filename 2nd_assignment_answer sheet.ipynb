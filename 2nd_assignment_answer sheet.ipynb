{
  "nbformat": 4,
  "nbformat_minor": 0,
  "metadata": {
    "colab": {
      "provenance": []
    },
    "kernelspec": {
      "name": "python3",
      "display_name": "Python 3"
    },
    "language_info": {
      "name": "python"
    }
  },
  "cells": [
    {
      "cell_type": "code",
      "execution_count": null,
      "metadata": {
        "id": "ELzjEIxeS2WM"
      },
      "outputs": [],
      "source": [
        "### Write a program to accept percentage from the user and display the grade according to the following criteria: \n",
        "Marks                        Grade\n",
        ">90                            A \n",
        ">80 and <=90                   B \n",
        ">=60 and <=80                  C \n",
        "below 60                       D \n",
        "\n"
      ]
    },
    {
      "cell_type": "code",
      "source": [
        "a=int(input(\"Enter the marks: \"))\n",
        "if a>90:\n",
        "    print(\"A Grade\")\n",
        "elif (a>80) and (a<=90):\n",
        "    print(\"B Grade\")\n",
        "elif (a>=60) and (a<=80):\n",
        "    print(\"C Grade\")\n",
        "else :\n",
        "    print(\"D Grade\")"
      ],
      "metadata": {
        "colab": {
          "base_uri": "https://localhost:8080/"
        },
        "id": "WX84p2OdUEVP",
        "outputId": "34d13cbf-4ad1-4529-99ac-076ce89c3736"
      },
      "execution_count": 6,
      "outputs": [
        {
          "output_type": "stream",
          "name": "stdout",
          "text": [
            "Enter the marks: 80\n",
            "C Grade\n"
          ]
        }
      ]
    },
    {
      "cell_type": "markdown",
      "source": [],
      "metadata": {
        "id": "iyEECmGMUAGg"
      }
    },
    {
      "cell_type": "code",
      "source": [
        "### Write a program to accept the cost price of a bike and display the road tax to be paid according to the following criteria: \n",
        "   Tax              Tax in Rupees\n",
        "   15%                 >100000\n",
        "   10%              50000 and <=100000\n",
        "    5%                 <= 50000 "
      ],
      "metadata": {
        "id": "V1oB57BTVle7"
      },
      "execution_count": null,
      "outputs": []
    },
    {
      "cell_type": "code",
      "source": [
        "cost_price=int(input(\"Enter the price of the bike: \"))\n",
        "if cost_price>100000:\n",
        "  print(f\"Road tax to be paid on this bike will be of amount {cost_price*0.15}\")\n",
        "elif (cost_price>50000) and (cost_price<=100000):\n",
        "  print(f\"Road tax to be paid on this bike will be of amount {cost_price*0.10}\")\n",
        "else :\n",
        "  print(f\"Road tax to be paid on this bike will be of amount {cost_price*0.05}\")"
      ],
      "metadata": {
        "colab": {
          "base_uri": "https://localhost:8080/"
        },
        "id": "ZNanXzAZXo1f",
        "outputId": "26706b5f-2cc2-4783-cb86-9fba13262c27"
      },
      "execution_count": 8,
      "outputs": [
        {
          "output_type": "stream",
          "name": "stdout",
          "text": [
            "Enter the price of the bike: 1000000\n",
            "Road tax to be paid on this bike will be of amount 150000.0\n"
          ]
        }
      ]
    },
    {
      "cell_type": "code",
      "source": [
        "### Accept any city from the user and display monuments of that city. \n",
        "      City                    Monument\n",
        "      Delhi                   Red Fort\n",
        "      Agra                    Taj Mahal\n",
        "      Jaipur                  Jal Mahal\n"
      ],
      "metadata": {
        "id": "Mjwy7eV4aFgL"
      },
      "execution_count": null,
      "outputs": []
    },
    {
      "cell_type": "code",
      "source": [
        "city = input(\"Enter the name of the city: \")\n",
        "\n",
        "if city == \"Delhi\":\n",
        "  monuments = [\"Red Fort\"]\n",
        "  print(\"Monuments in Delhi:\")\n",
        "  for monument in monuments:\n",
        "    print(\"- \" + monument)\n",
        "elif city == \"Agra\":\n",
        "  monuments = [\"Taj Mahal\"]\n",
        "  print(\"Monuments in Agra:\")\n",
        "  for monument in monuments:\n",
        "    print(\"- \" + monument)\n",
        "elif city == \"Jaipur\":\n",
        "  monuments = [\"Jal Mahal\"]\n",
        "  print(\"Monuments in Jaipur:\")\n",
        "  for monument in monuments:\n",
        "    print(\"- \" + monument)\n",
        "else:\n",
        "  print(\"Sorry, I don't have information on monuments in the city \" + city + \".\")\n"
      ],
      "metadata": {
        "colab": {
          "base_uri": "https://localhost:8080/"
        },
        "id": "OJCHl1m2cGIY",
        "outputId": "731ef5a3-79c2-4f0c-e4b7-ecce3349db30"
      },
      "execution_count": 11,
      "outputs": [
        {
          "output_type": "stream",
          "name": "stdout",
          "text": [
            "Enter the name of the city: Aligarh\n",
            "Sorry, I don't have information on monuments in the city Aligarh.\n"
          ]
        }
      ]
    },
    {
      "cell_type": "code",
      "source": [
        "### Check how many times a given number can be divided by 3 before it is less than or equal to 10. \n",
        "\n"
      ],
      "metadata": {
        "id": "BSeG14mZdft2"
      },
      "execution_count": null,
      "outputs": []
    },
    {
      "cell_type": "code",
      "source": [
        "number = int(input(\"Enter a number: \"))\n",
        "count = 0\n",
        "while number > 10:\n",
        "    number = number/3\n",
        "    count += 1\n",
        "print(\"The number can be divided by 3\", count, \"times.\")\n"
      ],
      "metadata": {
        "colab": {
          "base_uri": "https://localhost:8080/"
        },
        "id": "Ecmk5xvUeTzB",
        "outputId": "789bb363-9a0d-4cfb-c922-60fa107e4f07"
      },
      "execution_count": 18,
      "outputs": [
        {
          "output_type": "stream",
          "name": "stdout",
          "text": [
            "Enter a number: 6\n",
            "The number can be divided by 3 0 times.\n"
          ]
        }
      ]
    },
    {
      "cell_type": "code",
      "source": [
        "### Why and When to Use while Loop in Python give a detailed description with example "
      ],
      "metadata": {
        "id": "Vdm3740YeykB"
      },
      "execution_count": 15,
      "outputs": []
    },
    {
      "cell_type": "code",
      "source": [
        "### Ans- In Python, the while loop is used when you want to repeatedly execute a block of code as long as a specific condition is true,\n",
        "# The basic syntax for a while loop in Python is as follows:where condition is an expression that is evaluated before each iteration of the loop. \n",
        "# If the condition is True, the code inside the loop is executed. If the condition is False, the loop terminates and the program continues with the next statement after the loop.\n",
        "\n",
        "count = 1\n",
        "\n",
        "while count <= 10:\n",
        "    print(count)\n",
        "    count += 1\n"
      ],
      "metadata": {
        "id": "szKOgpiajMTU"
      },
      "execution_count": null,
      "outputs": []
    },
    {
      "cell_type": "code",
      "source": [
        " ### Use nested while loop to print 3 different pattern\n"
      ],
      "metadata": {
        "id": "GQPad2Zqjivj"
      },
      "execution_count": null,
      "outputs": []
    },
    {
      "cell_type": "code",
      "source": [
        "### Triangular Pattern\n",
        "rows = int(input(\"Enter the number of rows: \"))\n",
        "\n",
        "row = 1\n",
        "while row <= rows:\n",
        "    column = 1\n",
        "    while column <= row:\n",
        "        print(\"*\", end=\"\")\n",
        "        column += 1\n",
        "    print(\"\")\n",
        "    row += 1\n"
      ],
      "metadata": {
        "id": "uwobQhVNjusD"
      },
      "execution_count": null,
      "outputs": []
    },
    {
      "cell_type": "code",
      "source": [
        "### Diamond Pattern\n",
        "rows = int(input(\"Enter the number of rows: \"))\n",
        "\n",
        "row = 1\n",
        "while row <= rows:\n",
        "    column = 1\n",
        "    while column <= rows - row:\n",
        "        print(\" \", end=\"\")\n",
        "        column += 1\n",
        "    column = 1\n",
        "    while column <= 2 * row - 1:\n",
        "        print(\"*\", end=\"\")\n",
        "        column += 1\n",
        "    print(\"\")\n",
        "    row += 1\n",
        "\n",
        "row = rows - 1\n",
        "while row >= 1:\n",
        "    column = 1\n",
        "    while column <= rows - row:\n",
        "        print(\" \", end=\"\")\n",
        "        column += 1\n",
        "    column = 1\n",
        "    while column <= 2 * row - 1:\n",
        "        print(\"*\", end=\"\")\n",
        "        column += 1\n",
        "    print(\"\")\n",
        "    row -= 1\n"
      ],
      "metadata": {
        "id": "Y1j-Fxyfngmk"
      },
      "execution_count": null,
      "outputs": []
    },
    {
      "cell_type": "code",
      "source": [
        "### Right Angles Triangle Pattern\n",
        "rows = int(input(\"Enter the number of rows: \"))\n",
        "\n",
        "row = 1\n",
        "while row <= rows:\n",
        "    column = 1\n",
        "    while column <= row:\n",
        "        print(\"*\", end=\"\")\n",
        "        column += 1\n",
        "    print(\"\")\n",
        "    row += 1\n"
      ],
      "metadata": {
        "id": "zf_zaaDCnzTn"
      },
      "execution_count": null,
      "outputs": []
    },
    {
      "cell_type": "code",
      "source": [
        "#### Reverse a while loop to display numbers from 10 to 1. \n"
      ],
      "metadata": {
        "id": "bWCNv6nRpKGX"
      },
      "execution_count": null,
      "outputs": []
    },
    {
      "cell_type": "code",
      "source": [
        "number = 10\n",
        "while number >= 1:\n",
        "    print(number)\n",
        "    number -= 1\n"
      ],
      "metadata": {
        "id": "f9u9MuELpGAG"
      },
      "execution_count": null,
      "outputs": []
    },
    {
      "cell_type": "code",
      "source": [],
      "metadata": {
        "id": "XZR5vzCLpP7w"
      },
      "execution_count": null,
      "outputs": []
    }
  ]
}